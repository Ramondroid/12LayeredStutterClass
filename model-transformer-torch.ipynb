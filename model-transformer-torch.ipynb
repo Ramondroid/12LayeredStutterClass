{
 "cells": [
  {
   "cell_type": "markdown",
   "metadata": {},
   "source": [
    "<h2>Variables</h2>"
   ]
  },
  {
   "cell_type": "code",
   "execution_count": 1,
   "metadata": {},
   "outputs": [],
   "source": [
    "# Directory containing the dataset\n",
    "dataset_dir = './12K-Sorted'\n",
    "\n",
    "# Label map\n",
    "label_map = {\n",
    "    'Block': 0,\n",
    "    'Interjection': 1,\n",
    "    'NoStutter': 2,\n",
    "    'Prolongation': 3,\n",
    "    'SoundRepetition': 4,\n",
    "    'WordRepetition': 5\n",
    "}\n",
    "\n",
    "# Preprocessing\n",
    "duration = 3.0  # seconds\n",
    "sampling_rate = 16000  # Hz\n",
    "n_mels = 128\n",
    "n_mfcc = 13"
   ]
  },
  {
   "cell_type": "markdown",
   "metadata": {},
   "source": [
    "<h2>Retrieving audio files and their labels</h2>"
   ]
  },
  {
   "cell_type": "code",
   "execution_count": 2,
   "metadata": {},
   "outputs": [],
   "source": [
    "import os\n",
    "\n",
    "def get_audio_files_and_labels(dataset_dir):\n",
    "    audio_files = []\n",
    "    for label_dir in os.listdir(dataset_dir):\n",
    "        if label_dir in label_map:\n",
    "            label = label_map[label_dir]\n",
    "            class_dir = os.path.join(dataset_dir, label_dir)\n",
    "            for audio_file in os.listdir(class_dir):\n",
    "                audio_path = os.path.join(class_dir, audio_file)\n",
    "                audio_files.append((audio_path, label))\n",
    "    return audio_files"
   ]
  },
  {
   "cell_type": "markdown",
   "metadata": {},
   "source": [
    "<h2>Preprocessing</h2>"
   ]
  },
  {
   "cell_type": "code",
   "execution_count": 3,
   "metadata": {},
   "outputs": [],
   "source": [
    "import librosa\n",
    "import numpy as np\n",
    "\n",
    "def preprocess_audio(audio_path):\n",
    "    try:\n",
    "        y, sr = librosa.load(audio_path, sr=sampling_rate)\n",
    "\n",
    "        # Check if the length of the audio is exactly 3 seconds.\n",
    "        # If not, return None, None immediately.\n",
    "        if len(y) != int(duration * sampling_rate):\n",
    "            print(f\"Audio file {audio_path} is not exactly {duration} seconds.\")\n",
    "            return None, None\n",
    "\n",
    "        # Log-Mel Spectrogram\n",
    "        log_mel_spectrogram = librosa.feature.melspectrogram(y=y, sr=sr, n_mels=n_mels)\n",
    "        log_mel_spectrogram = librosa.power_to_db(log_mel_spectrogram, ref=np.max)\n",
    "\n",
    "        # MFCC\n",
    "        mfcc = librosa.feature.mfcc(y=y, sr=sr, n_mfcc=n_mfcc)\n",
    "\n",
    "        return log_mel_spectrogram.T, mfcc.T  # (time_steps, features)\n",
    "    except Exception as e:\n",
    "        print(f\"Error processing file {audio_path}: {e}\")\n",
    "        return None, None"
   ]
  },
  {
   "cell_type": "markdown",
   "metadata": {},
   "source": [
    "<h2>Load and preprocess dataset</h2>"
   ]
  },
  {
   "cell_type": "code",
   "execution_count": 4,
   "metadata": {},
   "outputs": [],
   "source": [
    "def load_and_preprocess_dataset(audio_files):\n",
    "    x = []\n",
    "    y = []\n",
    "\n",
    "    for audio_path, label in audio_files:\n",
    "        log_mel, mfcc = preprocess_audio(audio_path)\n",
    "        if log_mel is not None and mfcc is not None:\n",
    "            combined_features = np.concatenate((log_mel, mfcc), axis=-1) # (time_steps, log_mel_features + mfcc_features)\n",
    "            x.append(combined_features)\n",
    "            y.append(label)\n",
    "\n",
    "    x = np.array(x)\n",
    "    y = np.array(y)\n",
    "\n",
    "    return x, y"
   ]
  },
  {
   "cell_type": "code",
   "execution_count": 5,
   "metadata": {},
   "outputs": [],
   "source": [
    "import torch\n",
    "import torch.nn as nn\n",
    "import math\n",
    "\n",
    "class Conv1DBlock(nn.Module):\n",
    "    def __init__(self, feature_size: int, kernel_size: int, dropout: float) -> None:\n",
    "        super().__init__()\n",
    "        # First Conv1D Layer\n",
    "        self.conv1 = nn.Conv1d(in_channels=feature_size, out_channels=feature_size*2, kernel_size=kernel_size, padding='same')\n",
    "        self.norm = nn.LayerNorm(feature_size*2)\n",
    "        self.activation = nn.GELU()\n",
    "        self.dropout = nn.Dropout(dropout)\n",
    "\n",
    "        # Second Conv1D Layer\n",
    "        self.conv2 = nn.Conv1d(in_channels=feature_size*2, out_channels=512, kernel_size=kernel_size, padding='same')\n",
    "        self.norm2 = nn.LayerNorm(512)\n",
    "        \n",
    "    def forward(self, x):\n",
    "        # Conv1D -> LayerNorm -> GELU -> Dropout\n",
    "        x = self.conv1(x.transpose(1, 2))  # Conv1D expects (batch, channels, timesteps), so transpose\n",
    "        x = self.norm(x.transpose(1, 2))  # LayerNorm expects (batch, timesteps, features), so transpose back\n",
    "        x = self.activation(x)\n",
    "        x = self.dropout(x)\n",
    "\n",
    "        # Repeat for second Conv1D layer\n",
    "        x = self.conv2(x.transpose(1, 2))\n",
    "        x = self.norm2(x.transpose(1, 2))\n",
    "        x = self.activation(x)\n",
    "        return self.dropout(x)"
   ]
  },
  {
   "cell_type": "code",
   "execution_count": 6,
   "metadata": {},
   "outputs": [],
   "source": [
    "class PositionalEncoding(nn.Module):\n",
    "    def __init__(self, timesteps: int, d_model: int, dropout: float) -> None:\n",
    "        super().__init__()\n",
    "        self.timesteps = timesteps\n",
    "        self.d_model = d_model\n",
    "        self.dropout = nn.Dropout(dropout)\n",
    "\n",
    "        # Create a matrix of shape (timesteps, d_model)\n",
    "        pe = torch.zeros(timesteps, d_model)\n",
    "        # Create a vector of shape (timesteps, 1)\n",
    "        position = torch.arange(0, timesteps, dtype=torch.float).unsqueeze(1)\n",
    "        div_term = torch.exp(torch.arange(0, d_model, 2).float() * (-math.log(1000.0) / d_model))\n",
    "        # Apply the sin to even positions\n",
    "        pe[:, 0::2] = torch.sin(position * div_term)\n",
    "        pe[:, 1::2] = torch.cos(position * div_term)\n",
    "\n",
    "        pe = pe.unsqueeze(0) # (1, timesteps, d_model)\n",
    "\n",
    "        # Register as buffer so that the tensor will be saved to the file but not as a learned params\n",
    "        self.register_buffer('pe', pe)\n",
    "\n",
    "    def forward(self, x):\n",
    "        # self.pe = self.pe.to(x.device)  \n",
    "        x = x + (self.pe[:, :x.shape[1], :]).requires_grad_(False)\n",
    "        return self.dropout(x)"
   ]
  },
  {
   "cell_type": "code",
   "execution_count": 7,
   "metadata": {},
   "outputs": [],
   "source": [
    "class LayerNormalization(nn.Module):\n",
    "    def __init__(self, features: int, eps: float = 1e-6) -> None:\n",
    "        super().__init__()\n",
    "        self.eps = eps\n",
    "        self.alpha = nn.Parameter(torch.ones(features))\n",
    "        self.bias = nn.Parameter(torch.zeros(features))\n",
    "\n",
    "    def forward(self, x):\n",
    "        alpha = self.alpha.to(x.device)\n",
    "        bias = self.bias.to(x.device)\n",
    "\n",
    "        mean = x.mean(dim=-1, keepdim=True)\n",
    "        std = x.std(dim=-1, keepdim=True)\n",
    "        return alpha * (x - mean) / (std + self.eps) + bias"
   ]
  },
  {
   "cell_type": "code",
   "execution_count": 8,
   "metadata": {},
   "outputs": [],
   "source": [
    "class FeedForwardBlock(nn.Module):\n",
    "    def __init__(self, d_model: int, d_ff: int, dropout: float) -> None:\n",
    "        super().__init__()\n",
    "        self.linear_1 = nn.Linear(d_model, d_ff) # W1 and B1\n",
    "        self.dropout = nn.Dropout(dropout)\n",
    "        self.linear_2 = nn.Linear(d_ff, d_model) # W2 and B2\n",
    "\n",
    "    def forward(self, x):\n",
    "        # (batch, timesteps, d_model) --> (batch, timesteps, d_ff) --> (batch, timesteps, d_model)\n",
    "        return self.linear_2(self.dropout(torch.relu(self.linear_1(x))))"
   ]
  },
  {
   "cell_type": "code",
   "execution_count": 9,
   "metadata": {},
   "outputs": [],
   "source": [
    "class MultiHeadAttentionBlock(nn.Module):\n",
    "    def __init__(self, d_model: int, h: int, dropout: float) -> None:\n",
    "        super().__init__()\n",
    "        self.d_model = d_model\n",
    "        self.h = h\n",
    "        assert d_model % h == 0, \"d_model is not divisible by h\"\n",
    "        \n",
    "        self.d_k = d_model // h\n",
    "        self.w_q = nn.Linear(d_model, d_model) #Wq\n",
    "        self.w_k = nn.Linear(d_model, d_model) #Wk\n",
    "        self.w_v = nn.Linear(d_model, d_model) #Wv\n",
    "\n",
    "        self.w_o = nn.Linear(d_model, d_model) #Wo\n",
    "        self.dropout = nn.Dropout(dropout)\n",
    "\n",
    "    @staticmethod\n",
    "    def attention(query, key, value, mask, dropout: nn.Dropout):\n",
    "        d_k = query.shape[-1]\n",
    "\n",
    "        # (batch, h, timesteps, d_k) --> (batch, h, timesteps, timesteps)\n",
    "        attention_scores = (query @ key.transpose(-2, -1)) / math.sqrt(d_k)\n",
    "        if mask is not None:\n",
    "            attention_scores.masked_fill_(mask == 0, -1e9)\n",
    "        attention_scores = attention_scores.softmax(dim = -1) # (batch, h, timesteps, timesteps)\n",
    "        if dropout is not None:\n",
    "            attention_scores = dropout(attention_scores)\n",
    "\n",
    "        return (attention_scores @ value), attention_scores\n",
    "\n",
    "    def forward(self, q, k, v, mask):\n",
    "        query = self.w_q(q) # (batch, timesteps, d_model) --> (batch, timesteps, d_model)\n",
    "        key = self.w_k(k) # (batch, timesteps, d_model) --> (batch, timesteps, d_model)\n",
    "        value = self.w_v(v) # (batch, timesteps, d_model) --> (batch, timesteps, d_model)\n",
    "\n",
    "        # (batch, timesteps, d_model) --> (batch, timesteps, h, d_k) --> (batch, h, timesteps, d_k)\n",
    "        query = query.view(query.shape[0], query.shape[1], self.h, self.d_k).transpose(1, 2)\n",
    "        key = key.view(key.shape[0], key.shape[1], self.h, self.d_k).transpose(1, 2)\n",
    "        value = value.view(value.shape[0], value.shape[1], self.h, self.d_k).transpose(1, 2)\n",
    "\n",
    "        x, self.attention_scores = MultiHeadAttentionBlock.attention(query, key, value, mask, self.dropout)\n",
    "\n",
    "        # (batch, h, timesteps, d_k) --> (batch, timesteps, h, d_k) --> (batch, timesteps, d_model)\n",
    "        x = x.transpose(1, 2).contiguous().view(x.shape[0], -1, self.h * self.d_k)\n",
    "\n",
    "        # (batch, timesteps, d_model) --> (batch, timesteps, d_model)\n",
    "        return self.w_o(x)"
   ]
  },
  {
   "cell_type": "code",
   "execution_count": 10,
   "metadata": {},
   "outputs": [],
   "source": [
    "class ResidualConnection(nn.Module):\n",
    "    def __init__(self, features: int, dropout: float) -> None:\n",
    "        super().__init__()\n",
    "        self.dropout = nn.Dropout(dropout)\n",
    "        self.norm = LayerNormalization(features)\n",
    "\n",
    "    def forward(self, x, sublayer):\n",
    "        return x + self.dropout(sublayer(self.norm(x)))"
   ]
  },
  {
   "cell_type": "code",
   "execution_count": 11,
   "metadata": {},
   "outputs": [],
   "source": [
    "class EncoderBlock(nn.Module):\n",
    "    def __init__(self, features: int, self_attention_block: MultiHeadAttentionBlock, feed_forward_block: FeedForwardBlock, dropout: float) -> None:\n",
    "        super().__init__()\n",
    "        self.self_attention_block = self_attention_block\n",
    "        self.feed_foward_block = feed_forward_block\n",
    "        self.residual_connections = nn.ModuleList([ResidualConnection(features, dropout) for _ in range(2)])\n",
    "    \n",
    "    def forward(self, x, src_mask):\n",
    "        x = self.residual_connections[0](x, lambda x: self.self_attention_block(x, x, x, src_mask))\n",
    "        x = self.residual_connections[1](x, self.feed_foward_block)\n",
    "        return x\n",
    "    \n",
    "class Encoder(nn.Module):\n",
    "    def __init__(self, features: int, layers: nn.ModuleList) -> None:\n",
    "        super().__init__()\n",
    "        self.layers = layers\n",
    "        self.norm = LayerNormalization(features)\n",
    "\n",
    "    def forward(self, x, mask):\n",
    "        for layer in self.layers:\n",
    "            x = layer(x, mask)\n",
    "        return self.norm(x)"
   ]
  },
  {
   "cell_type": "code",
   "execution_count": 12,
   "metadata": {},
   "outputs": [],
   "source": [
    "class DecoderBlock(nn.Module):\n",
    "    def __init__(self, self_attention_block: MultiHeadAttentionBlock, cross_attention_block: MultiHeadAttentionBlock, feed_forward_block: FeedForwardBlock, dropout: float) -> None:\n",
    "        super().__init__()\n",
    "        self.self_attention_block = self_attention_block\n",
    "        self.cross_attention_block = cross_attention_block\n",
    "        self.feed_forward_block = feed_forward_block\n",
    "        self.residual_connections = nn.ModuleList(ResidualConnection(dropout) for _ in range(3))\n",
    "\n",
    "    def forward(self, x, encoder_output, src_mask, tgt_mask):\n",
    "        x = self.residual_connections[0](x, lambda x: self.self_attention_block(x, x, x, tgt_mask))\n",
    "        x = self.residual_connections[1](x, lambda x: self.self_attention_block(x, encoder_output, encoder_output, src_mask))\n",
    "        x = self.residual_connections[2](x, self.feed_forward_block)\n",
    "        return x\n",
    "    \n",
    "class Decoder(nn.Module):\n",
    "    def __init__(self, layers: nn.ModuleList) -> None:\n",
    "        super().__init__()\n",
    "        self.layers = layers\n",
    "        self.norm = LayerNormalization()\n",
    "\n",
    "    def forward(self, x, encoder_output, src_mask, tgt_mask):\n",
    "        for layer in self.layers:\n",
    "            x = layer(x, encoder_output, src_mask, tgt_mask)\n",
    "        return self.norm(x)"
   ]
  },
  {
   "cell_type": "code",
   "execution_count": 13,
   "metadata": {},
   "outputs": [],
   "source": [
    "class ClassificationHead(nn.Module):\n",
    "    def __init__(self, d_model: int, num_classes: int) -> None:\n",
    "        super().__init__()\n",
    "        self.fc = nn.Linear(d_model, num_classes)\n",
    "\n",
    "    def forward(self, x):\n",
    "        # Take the mean of the encoder outputs over the sequence dimension\n",
    "        x = x.mean(dim=1)\n",
    "        return self.fc(x)"
   ]
  },
  {
   "cell_type": "code",
   "execution_count": 14,
   "metadata": {},
   "outputs": [],
   "source": [
    "class TransformerBlock(nn.Module):\n",
    "    def __init__(self, encoder: Encoder, pos_enc: PositionalEncoding, classifier: ClassificationHead) -> None:\n",
    "        super().__init__()\n",
    "        self.encoder = encoder\n",
    "        self.pos_enc = pos_enc\n",
    "        self.classifier = classifier\n",
    "\n",
    "    def encode(self, inputs, mask=None):\n",
    "        x = self.pos_enc(inputs)\n",
    "        return self.encoder(x, mask)\n",
    "    \n",
    "    def classify(self, x):\n",
    "        return self.classifier(x)"
   ]
  },
  {
   "cell_type": "code",
   "execution_count": 15,
   "metadata": {},
   "outputs": [],
   "source": [
    "class AudioClassificationModel(nn.Module):\n",
    "    def __init__(self, input_dim: int, num_classes: int, num_heads: int, num_layers: int, kernel_size: int, dropout: float) -> None:\n",
    "        super().__init__()\n",
    "        self.conv_block = Conv1DBlock(input_dim, kernel_size, dropout)\n",
    "\n",
    "        self.pos_enc = None\n",
    "\n",
    "        self.encoder_blocks = nn.ModuleList()\n",
    "        self.num_classes = num_classes\n",
    "        self.num_heads = num_heads\n",
    "        self.num_layers = num_layers\n",
    "        self.dropout = dropout\n",
    "\n",
    "        self.classifier = None\n",
    "\n",
    "    def forward(self, x):\n",
    "        # Apply Conv1D block\n",
    "        x = self.conv_block(x)  # Output shape: (batch, timesteps, features)\n",
    "\n",
    "        # Dynamically compute d_model from the output shape of Conv1D\n",
    "        batch_size, timesteps, d_model = x.shape\n",
    "\n",
    "        # Positional encoding\n",
    "        if self.pos_enc is None:\n",
    "            self.pos_enc = PositionalEncoding(timesteps, d_model, self.dropout).to(x.device)\n",
    "\n",
    "        if len(self.encoder_blocks) == 0:\n",
    "            for _ in range(self.num_layers):\n",
    "                encoder_self_attention_block = MultiHeadAttentionBlock(d_model, self.num_heads, self.dropout)\n",
    "                feed_forward_block = FeedForwardBlock(d_model, d_model*4, self.dropout)\n",
    "                encoder_block = EncoderBlock(d_model, encoder_self_attention_block, feed_forward_block, self.dropout)\n",
    "                self.encoder_blocks.append(encoder_block)\n",
    "\n",
    "            # Encoder\n",
    "            self.encoder = Encoder(d_model, self.encoder_blocks).to(x.device)\n",
    "\n",
    "            # Classification head\n",
    "            self.classifier = ClassificationHead(d_model, self.num_classes).to(x.device)\n",
    "\n",
    "        # Freeze specific encoder blocks: 1st, 2nd, 3rd, 7th, 8th, and 9th layers\n",
    "        freezed_layers = [0, 1, 2, 6, 7, 8]\n",
    "\n",
    "        for i in freezed_layers:\n",
    "            for param in self.encoder_blocks[i].parameters():\n",
    "                param.requires_grad = False\n",
    "\n",
    "        # Apply positional encoding\n",
    "        x = self.pos_enc(x)\n",
    "\n",
    "        # Encoder\n",
    "        x = self.encoder(x, mask=None)\n",
    "\n",
    "        # Classification head\n",
    "        return self.classifier(x)"
   ]
  },
  {
   "cell_type": "code",
   "execution_count": 16,
   "metadata": {},
   "outputs": [],
   "source": [
    "from config import get_config, get_weights_file_path, latest_weights_file_path\n",
    "\n",
    "def get_model(config, input_dim):\n",
    "    model = AudioClassificationModel(input_dim, config['num_classes'], config['num_heads'], config['num_layers'], config['kernel_size'], config['dropout'])\n",
    "    return model"
   ]
  },
  {
   "cell_type": "code",
   "execution_count": 17,
   "metadata": {},
   "outputs": [],
   "source": [
    "from tqdm import tqdm\n",
    "\n",
    "def validate_model(model, val_loader, loss_fn, device, writer, global_step):\n",
    "    model.eval()  # Set the model to evaluation mode\n",
    "    val_loss = 0.0\n",
    "    correct_predictions = 0\n",
    "    total_predictions = 0\n",
    "\n",
    "    with torch.no_grad():  # Disable gradient computation for validation\n",
    "        batch_iterator = tqdm(val_loader, desc=\"Validating\")\n",
    "        for batch in batch_iterator:\n",
    "            inputs = batch[0].to(device)\n",
    "            labels = batch[1].to(device)\n",
    "\n",
    "            # Forward pass\n",
    "            outputs = model(inputs)\n",
    "\n",
    "            # Compute validation loss\n",
    "            loss = loss_fn(outputs, labels)\n",
    "            val_loss += loss.item()  # Accumulate the validation loss\n",
    "\n",
    "            # Log validation loss to the batch iterator for display\n",
    "            batch_iterator.set_postfix({\"val_loss\": f\"{loss.item():6.3f}\"})\n",
    "\n",
    "            # Calculate accuracy\n",
    "            _, predicted_labels = torch.max(outputs, 1)  # Get predicted class\n",
    "            correct_predictions += (predicted_labels == labels).sum().item()\n",
    "            total_predictions += labels.size(0)\n",
    "\n",
    "    # Calculate the average validation loss and accuracy for this epoch\n",
    "    avg_val_loss = val_loss / len(val_loader)\n",
    "    accuracy = correct_predictions / total_predictions\n",
    "\n",
    "    print(f\"Validation Loss: {avg_val_loss:.4f}, Accuracy: {accuracy:.4f}\")\n",
    "\n",
    "    # Log validation loss and accuracy to TensorBoard\n",
    "    writer.add_scalar('val loss', avg_val_loss, global_step)\n",
    "    writer.add_scalar('val accuracy', accuracy, global_step)\n",
    "    writer.flush()\n",
    "\n",
    "    return avg_val_loss, accuracy\n"
   ]
  },
  {
   "cell_type": "code",
   "execution_count": 18,
   "metadata": {},
   "outputs": [],
   "source": [
    "from pathlib import Path\n",
    "from sklearn.model_selection import train_test_split\n",
    "from torch.utils.data import DataLoader, TensorDataset\n",
    "import torch.optim as optim\n",
    "from torch.utils.tensorboard import SummaryWriter\n",
    "from sklearn.utils import class_weight\n",
    "\n",
    "def train_model(config):\n",
    "    device = \"cuda\" if torch.cuda.is_available() else \"cpu\"\n",
    "    print(f\"Using device {device}\")\n",
    "    if (device == \"cuda\"):\n",
    "        print(f\"Device name: {torch.cuda.get_device_name(device.index)}\")\n",
    "        print(f\"Device memory: {torch.cuda.get_device_properties(device.index).total_memory / 1024 ** 3} GB\")\n",
    "    device = torch.device(device)\n",
    "\n",
    "    Path(config['model_folder']).mkdir(parents=True, exist_ok=True)\n",
    "\n",
    "    audio_files = get_audio_files_and_labels(dataset_dir)\n",
    "    x, y = load_and_preprocess_dataset(audio_files)\n",
    "\n",
    "    # # Checking the dataset size\n",
    "    # assert len(x) == len(y) == 12730, \"Dataset size mismatch!\"\n",
    "\n",
    "    # Train/Test split\n",
    "    x_train, x_val, y_train, y_val = train_test_split(x, y, test_size=0.2, random_state=42, stratify=y)\n",
    "\n",
    "    # Convert to PyTorch tensors\n",
    "    x_train = torch.from_numpy(x_train).float()\n",
    "    x_val = torch.from_numpy(x_val).float()\n",
    "    y_train = torch.from_numpy(np.array(y_train)).long()\n",
    "    y_val = torch.from_numpy(np.array(y_val)).long()\n",
    "\n",
    "    # Move the tensors to device specified\n",
    "    x_train = x_train.to(device)\n",
    "    y_train = y_train.to(device)\n",
    "    x_val = x_val.to(device)\n",
    "    y_val = y_val.to(device)\n",
    "    \n",
    "    # Create Dataset and DataLoader\n",
    "    train_dataset = TensorDataset(x_train, y_train)\n",
    "    val_dataset = TensorDataset(x_val, y_val)\n",
    "    train_loader = DataLoader(train_dataset, config['batch_size'], shuffle=True)\n",
    "    val_loader = DataLoader(val_dataset, config['batch_size'])\n",
    "\n",
    "    input_shape = x_train.shape[-1]\n",
    "\n",
    "    model = get_model(config, input_shape).to(device)\n",
    "    # Tensorboard\n",
    "    writer = SummaryWriter(config['experiment_name'])\n",
    "\n",
    "    optimizer = optim.Adam(model.parameters(), lr=config['lr'])\n",
    "\n",
    "    initial_epoch = 0\n",
    "    global_step = 0\n",
    "    preload = config['preload']\n",
    "    model_filename = latest_weights_file_path(config) if preload == 'latest' else get_weights_file_path(config, preload) if preload else None\n",
    "    if model_filename:\n",
    "        print(f'Preloading model {model_filename}')\n",
    "        state = torch.load(model_filename)\n",
    "        model.load_state_dict(state['model_state_dict'])\n",
    "        initial_epoch = state['epoch'] + 1\n",
    "        optimizer.load_state_dict(state['optimizer_state_dict'])\n",
    "        global_step = state['global_step']\n",
    "    else:\n",
    "        print('No model to preload, starting from scratch')\n",
    "\n",
    "    class_weights = class_weight.compute_class_weight(\n",
    "        'balanced',\n",
    "        classes=np.unique(y_train),\n",
    "        y=y_train\n",
    "    )\n",
    "\n",
    "    class_weights_tensor = torch.tensor(class_weights, dtype=torch.float32).to(device)\n",
    "\n",
    "    loss_fn = nn.CrossEntropyLoss(label_smoothing=0.1, weight=class_weights_tensor).to(device)\n",
    "\n",
    "    for epoch in range(initial_epoch, config['epochs']):\n",
    "        torch.cuda.empty_cache()\n",
    "        model.train()\n",
    "        batch_iterator = tqdm(train_loader, desc=f\"Processing Epoch {epoch:02d}\")\n",
    "        for batch in batch_iterator:\n",
    "\n",
    "            inputs = batch[0].to(device) \n",
    "            labels = batch[1].to(device) \n",
    "\n",
    "            outputs = model(inputs)\n",
    "\n",
    "            # Compute the loss using a simple cross entropy\n",
    "            loss = loss_fn(outputs, labels)\n",
    "            batch_iterator.set_postfix({\"loss\": f\"{loss.item():6.3f}\"})\n",
    "\n",
    "            # Log the loss\n",
    "            writer.add_scalar('train loss', loss.item(), global_step)\n",
    "            writer.flush()\n",
    "\n",
    "            # Backpropagate the loss\n",
    "            loss.backward()\n",
    "\n",
    "            # Update the weights\n",
    "            optimizer.step()\n",
    "            optimizer.zero_grad(set_to_none=True)\n",
    "\n",
    "            global_step += 1\n",
    "\n",
    "        # Run validation at the end of every epoch\n",
    "        validate_model(model, val_loader, loss_fn, device, writer, global_step)\n",
    "\n",
    "        # Save the model every 10 epochs\n",
    "        if (epoch + 1) % 10 == 0:\n",
    "            model_filename = get_weights_file_path(config, f\"{epoch:02d}\")\n",
    "            torch.save({\n",
    "                'epoch': epoch,\n",
    "                'model_state_dict': model.state_dict(),\n",
    "                'optimizer_state_dict': optimizer.state_dict(),\n",
    "                'global_step': global_step\n",
    "            }, model_filename)"
   ]
  },
  {
   "cell_type": "markdown",
   "metadata": {},
   "source": [
    "<h2>Evaluating the Model</h2>"
   ]
  },
  {
   "cell_type": "code",
   "execution_count": 19,
   "metadata": {},
   "outputs": [
    {
     "name": "stdout",
     "output_type": "stream",
     "text": [
      "Using device cuda\n",
      "Device name: NVIDIA GeForce RTX 3060 Laptop GPU\n",
      "Device memory: 5.99951171875 GB\n",
      "Audio file ./12K-Sorted\\Block\\HeStutters_1_75.wav is not exactly 3.0 seconds.\n",
      "Audio file ./12K-Sorted\\Block\\StrongVoices_25_3.wav is not exactly 3.0 seconds.\n",
      "Audio file ./12K-Sorted\\Block\\WomenWhoStutter_0_46.wav is not exactly 3.0 seconds.\n",
      "Audio file ./12K-Sorted\\Interjection\\HeStutters_1_24.wav is not exactly 3.0 seconds.\n",
      "Audio file ./12K-Sorted\\Interjection\\HeStutters_1_36.wav is not exactly 3.0 seconds.\n",
      "Audio file ./12K-Sorted\\Interjection\\HeStutters_1_43.wav is not exactly 3.0 seconds.\n",
      "Audio file ./12K-Sorted\\Interjection\\HeStutters_1_70.wav is not exactly 3.0 seconds.\n",
      "Audio file ./12K-Sorted\\Interjection\\HeStutters_1_76.wav is not exactly 3.0 seconds.\n",
      "Audio file ./12K-Sorted\\Interjection\\StrongVoices_25_18.wav is not exactly 3.0 seconds.\n",
      "Audio file ./12K-Sorted\\Interjection\\StrongVoices_25_31.wav is not exactly 3.0 seconds.\n",
      "Audio file ./12K-Sorted\\Interjection\\StutterTalk_59_33.wav is not exactly 3.0 seconds.\n",
      "Audio file ./12K-Sorted\\Interjection\\StutterTalk_59_37.wav is not exactly 3.0 seconds.\n",
      "Audio file ./12K-Sorted\\Interjection\\WomenWhoStutter_0_130.wav is not exactly 3.0 seconds.\n",
      "Audio file ./12K-Sorted\\NoStutter\\HeStutters_0_0.wav is not exactly 3.0 seconds.\n",
      "Audio file ./12K-Sorted\\NoStutter\\HeStutters_0_1.wav is not exactly 3.0 seconds.\n",
      "Audio file ./12K-Sorted\\NoStutter\\HeStutters_0_10.wav is not exactly 3.0 seconds.\n",
      "Audio file ./12K-Sorted\\NoStutter\\HeStutters_0_11.wav is not exactly 3.0 seconds.\n",
      "Audio file ./12K-Sorted\\NoStutter\\HeStutters_0_12.wav is not exactly 3.0 seconds.\n",
      "Audio file ./12K-Sorted\\NoStutter\\HeStutters_0_15.wav is not exactly 3.0 seconds.\n",
      "Audio file ./12K-Sorted\\NoStutter\\HeStutters_0_16.wav is not exactly 3.0 seconds.\n",
      "Audio file ./12K-Sorted\\NoStutter\\HeStutters_0_2.wav is not exactly 3.0 seconds.\n",
      "Audio file ./12K-Sorted\\NoStutter\\HeStutters_0_21.wav is not exactly 3.0 seconds.\n",
      "Audio file ./12K-Sorted\\NoStutter\\HeStutters_0_22.wav is not exactly 3.0 seconds.\n",
      "Audio file ./12K-Sorted\\NoStutter\\HeStutters_0_23.wav is not exactly 3.0 seconds.\n",
      "Audio file ./12K-Sorted\\NoStutter\\HeStutters_0_24.wav is not exactly 3.0 seconds.\n",
      "Audio file ./12K-Sorted\\NoStutter\\HeStutters_0_29.wav is not exactly 3.0 seconds.\n",
      "Audio file ./12K-Sorted\\NoStutter\\HeStutters_0_30.wav is not exactly 3.0 seconds.\n",
      "Audio file ./12K-Sorted\\NoStutter\\HeStutters_0_32.wav is not exactly 3.0 seconds.\n",
      "Audio file ./12K-Sorted\\NoStutter\\HeStutters_0_34.wav is not exactly 3.0 seconds.\n",
      "Audio file ./12K-Sorted\\NoStutter\\HeStutters_0_35.wav is not exactly 3.0 seconds.\n",
      "Audio file ./12K-Sorted\\NoStutter\\HeStutters_0_36.wav is not exactly 3.0 seconds.\n",
      "Audio file ./12K-Sorted\\NoStutter\\HeStutters_0_4.wav is not exactly 3.0 seconds.\n",
      "Audio file ./12K-Sorted\\NoStutter\\HeStutters_0_6.wav is not exactly 3.0 seconds.\n",
      "Audio file ./12K-Sorted\\NoStutter\\HeStutters_0_7.wav is not exactly 3.0 seconds.\n",
      "Audio file ./12K-Sorted\\NoStutter\\HeStutters_0_8.wav is not exactly 3.0 seconds.\n",
      "Audio file ./12K-Sorted\\NoStutter\\HeStutters_0_9.wav is not exactly 3.0 seconds.\n",
      "Audio file ./12K-Sorted\\NoStutter\\HeStutters_1_103.wav is not exactly 3.0 seconds.\n",
      "Audio file ./12K-Sorted\\NoStutter\\HeStutters_1_19.wav is not exactly 3.0 seconds.\n",
      "Audio file ./12K-Sorted\\NoStutter\\HeStutters_1_52.wav is not exactly 3.0 seconds.\n",
      "Audio file ./12K-Sorted\\NoStutter\\HeStutters_1_64.wav is not exactly 3.0 seconds.\n",
      "Audio file ./12K-Sorted\\NoStutter\\HeStutters_1_93.wav is not exactly 3.0 seconds.\n",
      "Audio file ./12K-Sorted\\NoStutter\\HeStutters_1_94.wav is not exactly 3.0 seconds.\n",
      "Audio file ./12K-Sorted\\NoStutter\\HeStutters_1_95.wav is not exactly 3.0 seconds.\n",
      "Audio file ./12K-Sorted\\NoStutter\\HVSA_0_0.wav is not exactly 3.0 seconds.\n",
      "Audio file ./12K-Sorted\\NoStutter\\MyStutteringLife_18_1.wav is not exactly 3.0 seconds.\n",
      "Audio file ./12K-Sorted\\NoStutter\\MyStutteringLife_23_3.wav is not exactly 3.0 seconds.\n",
      "Audio file ./12K-Sorted\\NoStutter\\MyStutteringLife_7_13.wav is not exactly 3.0 seconds.\n",
      "Audio file ./12K-Sorted\\NoStutter\\StrongVoices_25_11.wav is not exactly 3.0 seconds.\n",
      "Audio file ./12K-Sorted\\NoStutter\\StrongVoices_25_20.wav is not exactly 3.0 seconds.\n",
      "Audio file ./12K-Sorted\\NoStutter\\StrongVoices_25_22.wav is not exactly 3.0 seconds.\n",
      "Audio file ./12K-Sorted\\NoStutter\\StrongVoices_25_24.wav is not exactly 3.0 seconds.\n",
      "Audio file ./12K-Sorted\\NoStutter\\StrongVoices_25_27.wav is not exactly 3.0 seconds.\n",
      "Audio file ./12K-Sorted\\NoStutter\\StrongVoices_25_30.wav is not exactly 3.0 seconds.\n",
      "Audio file ./12K-Sorted\\NoStutter\\StrongVoices_25_6.wav is not exactly 3.0 seconds.\n",
      "Audio file ./12K-Sorted\\NoStutter\\StutterTalk_59_34.wav is not exactly 3.0 seconds.\n",
      "Audio file ./12K-Sorted\\NoStutter\\StutterTalk_59_35.wav is not exactly 3.0 seconds.\n",
      "Audio file ./12K-Sorted\\NoStutter\\StutterTalk_59_36.wav is not exactly 3.0 seconds.\n",
      "Audio file ./12K-Sorted\\NoStutter\\WomenWhoStutter_0_114.wav is not exactly 3.0 seconds.\n",
      "Audio file ./12K-Sorted\\NoStutter\\WomenWhoStutter_0_116.wav is not exactly 3.0 seconds.\n",
      "Audio file ./12K-Sorted\\NoStutter\\WomenWhoStutter_0_37.wav is not exactly 3.0 seconds.\n",
      "Audio file ./12K-Sorted\\NoStutter\\WomenWhoStutter_0_38.wav is not exactly 3.0 seconds.\n",
      "Audio file ./12K-Sorted\\NoStutter\\WomenWhoStutter_0_41.wav is not exactly 3.0 seconds.\n",
      "Audio file ./12K-Sorted\\NoStutter\\WomenWhoStutter_0_42.wav is not exactly 3.0 seconds.\n",
      "Audio file ./12K-Sorted\\NoStutter\\WomenWhoStutter_0_60.wav is not exactly 3.0 seconds.\n",
      "Audio file ./12K-Sorted\\NoStutter\\WomenWhoStutter_0_69.wav is not exactly 3.0 seconds.\n",
      "Audio file ./12K-Sorted\\NoStutter\\WomenWhoStutter_0_74.wav is not exactly 3.0 seconds.\n",
      "Audio file ./12K-Sorted\\NoStutter\\WomenWhoStutter_0_95.wav is not exactly 3.0 seconds.\n",
      "Audio file ./12K-Sorted\\NoStutter\\WomenWhoStutter_0_97.wav is not exactly 3.0 seconds.\n",
      "Audio file ./12K-Sorted\\NoStutter\\WomenWhoStutter_0_98.wav is not exactly 3.0 seconds.\n",
      "Audio file ./12K-Sorted\\NoStutter\\WomenWhoStutter_0_99.wav is not exactly 3.0 seconds.\n",
      "Audio file ./12K-Sorted\\NoStutter\\WomenWhoStutter_85_0.wav is not exactly 3.0 seconds.\n",
      "Audio file ./12K-Sorted\\NoStutter\\WomenWhoStutter_86_0.wav is not exactly 3.0 seconds.\n",
      "Audio file ./12K-Sorted\\Prolongation\\HeStutters_1_15.wav is not exactly 3.0 seconds.\n",
      "Audio file ./12K-Sorted\\Prolongation\\HeStutters_1_27.wav is not exactly 3.0 seconds.\n",
      "Audio file ./12K-Sorted\\Prolongation\\HeStutters_1_54.wav is not exactly 3.0 seconds.\n",
      "Audio file ./12K-Sorted\\Prolongation\\HeStutters_1_72.wav is not exactly 3.0 seconds.\n",
      "Audio file ./12K-Sorted\\Prolongation\\StrongVoices_25_17.wav is not exactly 3.0 seconds.\n",
      "Audio file ./12K-Sorted\\Prolongation\\StrongVoices_25_28.wav is not exactly 3.0 seconds.\n",
      "Audio file ./12K-Sorted\\Prolongation\\WomenWhoStutter_0_36.wav is not exactly 3.0 seconds.\n",
      "Audio file ./12K-Sorted\\Prolongation\\WomenWhoStutter_0_44.wav is not exactly 3.0 seconds.\n",
      "Audio file ./12K-Sorted\\Prolongation\\WomenWhoStutter_0_45.wav is not exactly 3.0 seconds.\n",
      "Audio file ./12K-Sorted\\Prolongation\\WomenWhoStutter_0_56.wav is not exactly 3.0 seconds.\n",
      "Audio file ./12K-Sorted\\SoundRepetition\\HeStutters_0_27.wav is not exactly 3.0 seconds.\n",
      "Audio file ./12K-Sorted\\SoundRepetition\\HeStutters_1_33.wav is not exactly 3.0 seconds.\n",
      "Audio file ./12K-Sorted\\SoundRepetition\\HeStutters_1_42.wav is not exactly 3.0 seconds.\n",
      "Audio file ./12K-Sorted\\SoundRepetition\\HeStutters_1_61.wav is not exactly 3.0 seconds.\n",
      "Audio file ./12K-Sorted\\SoundRepetition\\HVSA_3_37.wav is not exactly 3.0 seconds.\n",
      "Audio file ./12K-Sorted\\SoundRepetition\\WomenWhoStutter_0_111.wav is not exactly 3.0 seconds.\n",
      "Audio file ./12K-Sorted\\SoundRepetition\\WomenWhoStutter_0_53.wav is not exactly 3.0 seconds.\n",
      "Audio file ./12K-Sorted\\SoundRepetition\\WomenWhoStutter_0_72.wav is not exactly 3.0 seconds.\n",
      "Audio file ./12K-Sorted\\WordRepetition\\HeStutters_1_104.wav is not exactly 3.0 seconds.\n",
      "Audio file ./12K-Sorted\\WordRepetition\\HeStutters_1_20.wav is not exactly 3.0 seconds.\n",
      "Audio file ./12K-Sorted\\WordRepetition\\HeStutters_1_51.wav is not exactly 3.0 seconds.\n",
      "Audio file ./12K-Sorted\\WordRepetition\\HeStutters_1_65.wav is not exactly 3.0 seconds.\n",
      "Audio file ./12K-Sorted\\WordRepetition\\HeStutters_1_71.wav is not exactly 3.0 seconds.\n",
      "Audio file ./12K-Sorted\\WordRepetition\\HeStutters_1_85.wav is not exactly 3.0 seconds.\n",
      "Audio file ./12K-Sorted\\WordRepetition\\HeStutters_1_98.wav is not exactly 3.0 seconds.\n",
      "No model to preload, starting from scratch\n"
     ]
    },
    {
     "name": "stderr",
     "output_type": "stream",
     "text": [
      "Processing Epoch 00: 100%|██████████| 316/316 [00:57<00:00,  5.46it/s, loss=1.323]\n",
      "Validating: 100%|██████████| 79/79 [00:04<00:00, 17.48it/s, val_loss=1.211]\n"
     ]
    },
    {
     "name": "stdout",
     "output_type": "stream",
     "text": [
      "Validation Loss: 1.3834, Accuracy: 0.5778\n"
     ]
    },
    {
     "name": "stderr",
     "output_type": "stream",
     "text": [
      "Processing Epoch 01: 100%|██████████| 316/316 [01:00<00:00,  5.26it/s, loss=1.347]\n",
      "Validating: 100%|██████████| 79/79 [00:05<00:00, 15.04it/s, val_loss=1.223]\n"
     ]
    },
    {
     "name": "stdout",
     "output_type": "stream",
     "text": [
      "Validation Loss: 1.4203, Accuracy: 0.5778\n"
     ]
    },
    {
     "name": "stderr",
     "output_type": "stream",
     "text": [
      "Processing Epoch 02: 100%|██████████| 316/316 [01:05<00:00,  4.81it/s, loss=1.352]\n",
      "Validating: 100%|██████████| 79/79 [00:05<00:00, 14.43it/s, val_loss=1.178]\n"
     ]
    },
    {
     "name": "stdout",
     "output_type": "stream",
     "text": [
      "Validation Loss: 1.3576, Accuracy: 0.5718\n"
     ]
    },
    {
     "name": "stderr",
     "output_type": "stream",
     "text": [
      "Processing Epoch 03: 100%|██████████| 316/316 [01:07<00:00,  4.70it/s, loss=1.306]\n",
      "Validating: 100%|██████████| 79/79 [00:05<00:00, 14.16it/s, val_loss=1.169]\n"
     ]
    },
    {
     "name": "stdout",
     "output_type": "stream",
     "text": [
      "Validation Loss: 1.3616, Accuracy: 0.5778\n"
     ]
    },
    {
     "name": "stderr",
     "output_type": "stream",
     "text": [
      "Processing Epoch 04: 100%|██████████| 316/316 [01:08<00:00,  4.61it/s, loss=1.205]\n",
      "Validating: 100%|██████████| 79/79 [00:05<00:00, 13.95it/s, val_loss=1.123]\n"
     ]
    },
    {
     "name": "stdout",
     "output_type": "stream",
     "text": [
      "Validation Loss: 1.3331, Accuracy: 0.5805\n"
     ]
    },
    {
     "name": "stderr",
     "output_type": "stream",
     "text": [
      "Processing Epoch 05: 100%|██████████| 316/316 [01:09<00:00,  4.57it/s, loss=1.430]\n",
      "Validating: 100%|██████████| 79/79 [00:05<00:00, 13.83it/s, val_loss=1.144]\n"
     ]
    },
    {
     "name": "stdout",
     "output_type": "stream",
     "text": [
      "Validation Loss: 1.3571, Accuracy: 0.5813\n"
     ]
    },
    {
     "name": "stderr",
     "output_type": "stream",
     "text": [
      "Processing Epoch 06: 100%|██████████| 316/316 [01:09<00:00,  4.56it/s, loss=1.365]\n",
      "Validating: 100%|██████████| 79/79 [00:05<00:00, 13.68it/s, val_loss=1.100]\n"
     ]
    },
    {
     "name": "stdout",
     "output_type": "stream",
     "text": [
      "Validation Loss: 1.2988, Accuracy: 0.6110\n"
     ]
    },
    {
     "name": "stderr",
     "output_type": "stream",
     "text": [
      "Processing Epoch 07: 100%|██████████| 316/316 [01:09<00:00,  4.54it/s, loss=1.133]\n",
      "Validating: 100%|██████████| 79/79 [00:05<00:00, 13.69it/s, val_loss=1.028]\n"
     ]
    },
    {
     "name": "stdout",
     "output_type": "stream",
     "text": [
      "Validation Loss: 1.3013, Accuracy: 0.6023\n"
     ]
    },
    {
     "name": "stderr",
     "output_type": "stream",
     "text": [
      "Processing Epoch 08: 100%|██████████| 316/316 [01:08<00:00,  4.59it/s, loss=1.414]\n",
      "Validating: 100%|██████████| 79/79 [00:05<00:00, 13.80it/s, val_loss=1.054]\n"
     ]
    },
    {
     "name": "stdout",
     "output_type": "stream",
     "text": [
      "Validation Loss: 1.2871, Accuracy: 0.6055\n"
     ]
    },
    {
     "name": "stderr",
     "output_type": "stream",
     "text": [
      "Processing Epoch 09: 100%|██████████| 316/316 [01:09<00:00,  4.56it/s, loss=1.208]\n",
      "Validating: 100%|██████████| 79/79 [00:05<00:00, 13.72it/s, val_loss=1.003]\n"
     ]
    },
    {
     "name": "stdout",
     "output_type": "stream",
     "text": [
      "Validation Loss: 1.2763, Accuracy: 0.6106\n"
     ]
    },
    {
     "name": "stderr",
     "output_type": "stream",
     "text": [
      "Processing Epoch 10: 100%|██████████| 316/316 [01:09<00:00,  4.53it/s, loss=1.159]\n",
      "Validating: 100%|██████████| 79/79 [00:05<00:00, 13.64it/s, val_loss=0.988]\n"
     ]
    },
    {
     "name": "stdout",
     "output_type": "stream",
     "text": [
      "Validation Loss: 1.2630, Accuracy: 0.6122\n"
     ]
    },
    {
     "name": "stderr",
     "output_type": "stream",
     "text": [
      "Processing Epoch 11: 100%|██████████| 316/316 [01:09<00:00,  4.54it/s, loss=1.094]\n",
      "Validating: 100%|██████████| 79/79 [00:05<00:00, 13.78it/s, val_loss=1.005]\n"
     ]
    },
    {
     "name": "stdout",
     "output_type": "stream",
     "text": [
      "Validation Loss: 1.2683, Accuracy: 0.6130\n"
     ]
    },
    {
     "name": "stderr",
     "output_type": "stream",
     "text": [
      "Processing Epoch 12: 100%|██████████| 316/316 [01:10<00:00,  4.51it/s, loss=1.145]\n",
      "Validating: 100%|██████████| 79/79 [00:05<00:00, 13.62it/s, val_loss=1.023]\n"
     ]
    },
    {
     "name": "stdout",
     "output_type": "stream",
     "text": [
      "Validation Loss: 1.2766, Accuracy: 0.6161\n"
     ]
    },
    {
     "name": "stderr",
     "output_type": "stream",
     "text": [
      "Processing Epoch 13: 100%|██████████| 316/316 [01:10<00:00,  4.51it/s, loss=1.109]\n",
      "Validating: 100%|██████████| 79/79 [00:05<00:00, 13.45it/s, val_loss=1.019]\n"
     ]
    },
    {
     "name": "stdout",
     "output_type": "stream",
     "text": [
      "Validation Loss: 1.2353, Accuracy: 0.6359\n"
     ]
    },
    {
     "name": "stderr",
     "output_type": "stream",
     "text": [
      "Processing Epoch 14: 100%|██████████| 316/316 [01:07<00:00,  4.69it/s, loss=1.136]\n",
      "Validating: 100%|██████████| 79/79 [00:05<00:00, 14.71it/s, val_loss=1.040]\n"
     ]
    },
    {
     "name": "stdout",
     "output_type": "stream",
     "text": [
      "Validation Loss: 1.2847, Accuracy: 0.6181\n"
     ]
    },
    {
     "name": "stderr",
     "output_type": "stream",
     "text": [
      "Processing Epoch 15: 100%|██████████| 316/316 [01:06<00:00,  4.78it/s, loss=1.220]\n",
      "Validating: 100%|██████████| 79/79 [00:05<00:00, 14.41it/s, val_loss=0.991]\n"
     ]
    },
    {
     "name": "stdout",
     "output_type": "stream",
     "text": [
      "Validation Loss: 1.2210, Accuracy: 0.6407\n"
     ]
    },
    {
     "name": "stderr",
     "output_type": "stream",
     "text": [
      "Processing Epoch 16: 100%|██████████| 316/316 [01:04<00:00,  4.91it/s, loss=1.309]\n",
      "Validating: 100%|██████████| 79/79 [00:05<00:00, 14.88it/s, val_loss=1.010]\n"
     ]
    },
    {
     "name": "stdout",
     "output_type": "stream",
     "text": [
      "Validation Loss: 1.2180, Accuracy: 0.6399\n"
     ]
    },
    {
     "name": "stderr",
     "output_type": "stream",
     "text": [
      "Processing Epoch 17: 100%|██████████| 316/316 [01:05<00:00,  4.83it/s, loss=1.106]\n",
      "Validating: 100%|██████████| 79/79 [00:05<00:00, 13.99it/s, val_loss=1.001]\n"
     ]
    },
    {
     "name": "stdout",
     "output_type": "stream",
     "text": [
      "Validation Loss: 1.2297, Accuracy: 0.6383\n"
     ]
    },
    {
     "name": "stderr",
     "output_type": "stream",
     "text": [
      "Processing Epoch 18: 100%|██████████| 316/316 [01:05<00:00,  4.83it/s, loss=1.339]\n",
      "Validating: 100%|██████████| 79/79 [00:05<00:00, 13.27it/s, val_loss=1.004]\n"
     ]
    },
    {
     "name": "stdout",
     "output_type": "stream",
     "text": [
      "Validation Loss: 1.2214, Accuracy: 0.6399\n"
     ]
    },
    {
     "name": "stderr",
     "output_type": "stream",
     "text": [
      "Processing Epoch 19: 100%|██████████| 316/316 [01:07<00:00,  4.66it/s, loss=0.984]\n",
      "Validating: 100%|██████████| 79/79 [00:05<00:00, 13.82it/s, val_loss=1.011]\n"
     ]
    },
    {
     "name": "stdout",
     "output_type": "stream",
     "text": [
      "Validation Loss: 1.2850, Accuracy: 0.6284\n"
     ]
    },
    {
     "name": "stderr",
     "output_type": "stream",
     "text": [
      "Processing Epoch 20: 100%|██████████| 316/316 [01:06<00:00,  4.74it/s, loss=1.310]\n",
      "Validating: 100%|██████████| 79/79 [00:05<00:00, 14.15it/s, val_loss=0.986]\n"
     ]
    },
    {
     "name": "stdout",
     "output_type": "stream",
     "text": [
      "Validation Loss: 1.2075, Accuracy: 0.6431\n"
     ]
    },
    {
     "name": "stderr",
     "output_type": "stream",
     "text": [
      "Processing Epoch 21: 100%|██████████| 316/316 [01:05<00:00,  4.85it/s, loss=1.247]\n",
      "Validating: 100%|██████████| 79/79 [00:05<00:00, 14.26it/s, val_loss=0.982]\n"
     ]
    },
    {
     "name": "stdout",
     "output_type": "stream",
     "text": [
      "Validation Loss: 1.2405, Accuracy: 0.6324\n"
     ]
    },
    {
     "name": "stderr",
     "output_type": "stream",
     "text": [
      "Processing Epoch 22: 100%|██████████| 316/316 [01:05<00:00,  4.86it/s, loss=1.156]\n",
      "Validating: 100%|██████████| 79/79 [00:05<00:00, 14.84it/s, val_loss=0.951]\n"
     ]
    },
    {
     "name": "stdout",
     "output_type": "stream",
     "text": [
      "Validation Loss: 1.2095, Accuracy: 0.6419\n"
     ]
    },
    {
     "name": "stderr",
     "output_type": "stream",
     "text": [
      "Processing Epoch 23: 100%|██████████| 316/316 [01:05<00:00,  4.86it/s, loss=1.019]\n",
      "Validating: 100%|██████████| 79/79 [00:05<00:00, 14.91it/s, val_loss=1.001]\n"
     ]
    },
    {
     "name": "stdout",
     "output_type": "stream",
     "text": [
      "Validation Loss: 1.2156, Accuracy: 0.6470\n"
     ]
    },
    {
     "name": "stderr",
     "output_type": "stream",
     "text": [
      "Processing Epoch 24: 100%|██████████| 316/316 [01:06<00:00,  4.76it/s, loss=1.286]\n",
      "Validating: 100%|██████████| 79/79 [00:05<00:00, 15.12it/s, val_loss=1.063]\n"
     ]
    },
    {
     "name": "stdout",
     "output_type": "stream",
     "text": [
      "Validation Loss: 1.2320, Accuracy: 0.6395\n"
     ]
    },
    {
     "name": "stderr",
     "output_type": "stream",
     "text": [
      "Processing Epoch 25: 100%|██████████| 316/316 [01:02<00:00,  5.08it/s, loss=1.075]\n",
      "Validating: 100%|██████████| 79/79 [00:05<00:00, 14.86it/s, val_loss=0.991]\n"
     ]
    },
    {
     "name": "stdout",
     "output_type": "stream",
     "text": [
      "Validation Loss: 1.2256, Accuracy: 0.6450\n"
     ]
    },
    {
     "name": "stderr",
     "output_type": "stream",
     "text": [
      "Processing Epoch 26: 100%|██████████| 316/316 [01:06<00:00,  4.72it/s, loss=1.149]\n",
      "Validating: 100%|██████████| 79/79 [00:05<00:00, 14.33it/s, val_loss=0.985]\n"
     ]
    },
    {
     "name": "stdout",
     "output_type": "stream",
     "text": [
      "Validation Loss: 1.2233, Accuracy: 0.6446\n"
     ]
    },
    {
     "name": "stderr",
     "output_type": "stream",
     "text": [
      "Processing Epoch 27: 100%|██████████| 316/316 [01:06<00:00,  4.76it/s, loss=1.486]\n",
      "Validating: 100%|██████████| 79/79 [00:05<00:00, 14.52it/s, val_loss=1.026]\n"
     ]
    },
    {
     "name": "stdout",
     "output_type": "stream",
     "text": [
      "Validation Loss: 1.2742, Accuracy: 0.6359\n"
     ]
    },
    {
     "name": "stderr",
     "output_type": "stream",
     "text": [
      "Processing Epoch 28: 100%|██████████| 316/316 [01:06<00:00,  4.76it/s, loss=1.072]\n",
      "Validating: 100%|██████████| 79/79 [00:05<00:00, 14.59it/s, val_loss=0.980]\n"
     ]
    },
    {
     "name": "stdout",
     "output_type": "stream",
     "text": [
      "Validation Loss: 1.1954, Accuracy: 0.6427\n"
     ]
    },
    {
     "name": "stderr",
     "output_type": "stream",
     "text": [
      "Processing Epoch 29: 100%|██████████| 316/316 [01:05<00:00,  4.80it/s, loss=1.243]\n",
      "Validating: 100%|██████████| 79/79 [00:05<00:00, 14.86it/s, val_loss=0.962]\n"
     ]
    },
    {
     "name": "stdout",
     "output_type": "stream",
     "text": [
      "Validation Loss: 1.1880, Accuracy: 0.6458\n"
     ]
    },
    {
     "name": "stderr",
     "output_type": "stream",
     "text": [
      "Processing Epoch 30: 100%|██████████| 316/316 [01:05<00:00,  4.82it/s, loss=1.178]\n",
      "Validating: 100%|██████████| 79/79 [00:05<00:00, 14.57it/s, val_loss=1.027]\n"
     ]
    },
    {
     "name": "stdout",
     "output_type": "stream",
     "text": [
      "Validation Loss: 1.2429, Accuracy: 0.6419\n"
     ]
    },
    {
     "name": "stderr",
     "output_type": "stream",
     "text": [
      "Processing Epoch 31: 100%|██████████| 316/316 [01:05<00:00,  4.84it/s, loss=1.298]\n",
      "Validating: 100%|██████████| 79/79 [00:05<00:00, 14.55it/s, val_loss=0.986]\n"
     ]
    },
    {
     "name": "stdout",
     "output_type": "stream",
     "text": [
      "Validation Loss: 1.1870, Accuracy: 0.6553\n"
     ]
    },
    {
     "name": "stderr",
     "output_type": "stream",
     "text": [
      "Processing Epoch 32: 100%|██████████| 316/316 [01:05<00:00,  4.82it/s, loss=1.050]\n",
      "Validating: 100%|██████████| 79/79 [00:05<00:00, 14.43it/s, val_loss=0.982]\n"
     ]
    },
    {
     "name": "stdout",
     "output_type": "stream",
     "text": [
      "Validation Loss: 1.2091, Accuracy: 0.6407\n"
     ]
    },
    {
     "name": "stderr",
     "output_type": "stream",
     "text": [
      "Processing Epoch 33: 100%|██████████| 316/316 [01:05<00:00,  4.84it/s, loss=0.875]\n",
      "Validating: 100%|██████████| 79/79 [00:05<00:00, 14.57it/s, val_loss=1.011]\n"
     ]
    },
    {
     "name": "stdout",
     "output_type": "stream",
     "text": [
      "Validation Loss: 1.2464, Accuracy: 0.6419\n"
     ]
    },
    {
     "name": "stderr",
     "output_type": "stream",
     "text": [
      "Processing Epoch 34: 100%|██████████| 316/316 [01:05<00:00,  4.81it/s, loss=1.018]\n",
      "Validating: 100%|██████████| 79/79 [00:05<00:00, 14.72it/s, val_loss=1.000]\n"
     ]
    },
    {
     "name": "stdout",
     "output_type": "stream",
     "text": [
      "Validation Loss: 1.1883, Accuracy: 0.6498\n"
     ]
    },
    {
     "name": "stderr",
     "output_type": "stream",
     "text": [
      "Processing Epoch 35: 100%|██████████| 316/316 [01:06<00:00,  4.75it/s, loss=1.192]\n",
      "Validating: 100%|██████████| 79/79 [00:05<00:00, 13.92it/s, val_loss=1.027]\n"
     ]
    },
    {
     "name": "stdout",
     "output_type": "stream",
     "text": [
      "Validation Loss: 1.1932, Accuracy: 0.6522\n"
     ]
    },
    {
     "name": "stderr",
     "output_type": "stream",
     "text": [
      "Processing Epoch 36: 100%|██████████| 316/316 [01:08<00:00,  4.63it/s, loss=1.212]\n",
      "Validating: 100%|██████████| 79/79 [00:05<00:00, 13.96it/s, val_loss=1.004]\n"
     ]
    },
    {
     "name": "stdout",
     "output_type": "stream",
     "text": [
      "Validation Loss: 1.2442, Accuracy: 0.6514\n"
     ]
    },
    {
     "name": "stderr",
     "output_type": "stream",
     "text": [
      "Processing Epoch 37: 100%|██████████| 316/316 [01:08<00:00,  4.63it/s, loss=1.228]\n",
      "Validating: 100%|██████████| 79/79 [00:05<00:00, 14.05it/s, val_loss=0.976]\n"
     ]
    },
    {
     "name": "stdout",
     "output_type": "stream",
     "text": [
      "Validation Loss: 1.1798, Accuracy: 0.6514\n"
     ]
    },
    {
     "name": "stderr",
     "output_type": "stream",
     "text": [
      "Processing Epoch 38: 100%|██████████| 316/316 [01:07<00:00,  4.67it/s, loss=1.160]\n",
      "Validating: 100%|██████████| 79/79 [00:05<00:00, 14.25it/s, val_loss=1.019]\n"
     ]
    },
    {
     "name": "stdout",
     "output_type": "stream",
     "text": [
      "Validation Loss: 1.1850, Accuracy: 0.6486\n"
     ]
    },
    {
     "name": "stderr",
     "output_type": "stream",
     "text": [
      "Processing Epoch 39: 100%|██████████| 316/316 [01:07<00:00,  4.67it/s, loss=1.085]\n",
      "Validating: 100%|██████████| 79/79 [00:05<00:00, 14.23it/s, val_loss=0.954]\n"
     ]
    },
    {
     "name": "stdout",
     "output_type": "stream",
     "text": [
      "Validation Loss: 1.1905, Accuracy: 0.6557\n"
     ]
    },
    {
     "name": "stderr",
     "output_type": "stream",
     "text": [
      "Processing Epoch 40: 100%|██████████| 316/316 [01:07<00:00,  4.67it/s, loss=1.184]\n",
      "Validating: 100%|██████████| 79/79 [00:05<00:00, 14.17it/s, val_loss=0.974]\n"
     ]
    },
    {
     "name": "stdout",
     "output_type": "stream",
     "text": [
      "Validation Loss: 1.1809, Accuracy: 0.6514\n"
     ]
    },
    {
     "name": "stderr",
     "output_type": "stream",
     "text": [
      "Processing Epoch 41: 100%|██████████| 316/316 [01:07<00:00,  4.68it/s, loss=1.051]\n",
      "Validating: 100%|██████████| 79/79 [00:05<00:00, 14.16it/s, val_loss=0.983]\n"
     ]
    },
    {
     "name": "stdout",
     "output_type": "stream",
     "text": [
      "Validation Loss: 1.2163, Accuracy: 0.6545\n"
     ]
    },
    {
     "name": "stderr",
     "output_type": "stream",
     "text": [
      "Processing Epoch 42: 100%|██████████| 316/316 [01:06<00:00,  4.75it/s, loss=1.014]\n",
      "Validating: 100%|██████████| 79/79 [00:05<00:00, 14.00it/s, val_loss=0.995]\n"
     ]
    },
    {
     "name": "stdout",
     "output_type": "stream",
     "text": [
      "Validation Loss: 1.1804, Accuracy: 0.6601\n"
     ]
    },
    {
     "name": "stderr",
     "output_type": "stream",
     "text": [
      "Processing Epoch 43: 100%|██████████| 316/316 [01:03<00:00,  4.94it/s, loss=1.170]\n",
      "Validating: 100%|██████████| 79/79 [00:05<00:00, 15.05it/s, val_loss=0.987]\n"
     ]
    },
    {
     "name": "stdout",
     "output_type": "stream",
     "text": [
      "Validation Loss: 1.1943, Accuracy: 0.6486\n"
     ]
    },
    {
     "name": "stderr",
     "output_type": "stream",
     "text": [
      "Processing Epoch 44: 100%|██████████| 316/316 [01:05<00:00,  4.84it/s, loss=1.388]\n",
      "Validating: 100%|██████████| 79/79 [00:05<00:00, 14.70it/s, val_loss=1.007]\n"
     ]
    },
    {
     "name": "stdout",
     "output_type": "stream",
     "text": [
      "Validation Loss: 1.1810, Accuracy: 0.6617\n"
     ]
    },
    {
     "name": "stderr",
     "output_type": "stream",
     "text": [
      "Processing Epoch 45: 100%|██████████| 316/316 [01:05<00:00,  4.86it/s, loss=1.008]\n",
      "Validating: 100%|██████████| 79/79 [00:05<00:00, 15.02it/s, val_loss=1.029]\n"
     ]
    },
    {
     "name": "stdout",
     "output_type": "stream",
     "text": [
      "Validation Loss: 1.2419, Accuracy: 0.6454\n"
     ]
    },
    {
     "name": "stderr",
     "output_type": "stream",
     "text": [
      "Processing Epoch 46: 100%|██████████| 316/316 [01:06<00:00,  4.76it/s, loss=1.150]\n",
      "Validating: 100%|██████████| 79/79 [00:05<00:00, 14.79it/s, val_loss=0.989]\n"
     ]
    },
    {
     "name": "stdout",
     "output_type": "stream",
     "text": [
      "Validation Loss: 1.2010, Accuracy: 0.6529\n"
     ]
    },
    {
     "name": "stderr",
     "output_type": "stream",
     "text": [
      "Processing Epoch 47: 100%|██████████| 316/316 [01:04<00:00,  4.93it/s, loss=1.038]\n",
      "Validating: 100%|██████████| 79/79 [00:05<00:00, 15.31it/s, val_loss=0.968]\n"
     ]
    },
    {
     "name": "stdout",
     "output_type": "stream",
     "text": [
      "Validation Loss: 1.1844, Accuracy: 0.6593\n"
     ]
    },
    {
     "name": "stderr",
     "output_type": "stream",
     "text": [
      "Processing Epoch 48: 100%|██████████| 316/316 [01:01<00:00,  5.11it/s, loss=1.442]\n",
      "Validating: 100%|██████████| 79/79 [00:05<00:00, 15.71it/s, val_loss=0.981]\n"
     ]
    },
    {
     "name": "stdout",
     "output_type": "stream",
     "text": [
      "Validation Loss: 1.1762, Accuracy: 0.6565\n"
     ]
    },
    {
     "name": "stderr",
     "output_type": "stream",
     "text": [
      "Processing Epoch 49: 100%|██████████| 316/316 [01:05<00:00,  4.81it/s, loss=1.206]\n",
      "Validating: 100%|██████████| 79/79 [00:05<00:00, 14.54it/s, val_loss=0.965]\n"
     ]
    },
    {
     "name": "stdout",
     "output_type": "stream",
     "text": [
      "Validation Loss: 1.1688, Accuracy: 0.6628\n"
     ]
    }
   ],
   "source": [
    "import warnings\n",
    "\n",
    "warnings.filterwarnings(\"ignore\")\n",
    "config = get_config()\n",
    "train_model(config)"
   ]
  },
  {
   "cell_type": "code",
   "execution_count": 20,
   "metadata": {},
   "outputs": [
    {
     "name": "stdout",
     "output_type": "stream",
     "text": [
      "Using device: cuda\n"
     ]
    },
    {
     "ename": "NameError",
     "evalue": "name 'x' is not defined",
     "output_type": "error",
     "traceback": [
      "\u001b[1;31m---------------------------------------------------------------------------\u001b[0m",
      "\u001b[1;31mNameError\u001b[0m                                 Traceback (most recent call last)",
      "Cell \u001b[1;32mIn[20], line 7\u001b[0m\n\u001b[0;32m      4\u001b[0m config \u001b[38;5;241m=\u001b[39m get_config()\n\u001b[0;32m      6\u001b[0m \u001b[38;5;66;03m# Train/Test split\u001b[39;00m\n\u001b[1;32m----> 7\u001b[0m x_train, x_val, y_train, y_val \u001b[38;5;241m=\u001b[39m train_test_split(\u001b[43mx\u001b[49m, y, test_size\u001b[38;5;241m=\u001b[39m\u001b[38;5;241m0.2\u001b[39m, random_state\u001b[38;5;241m=\u001b[39m\u001b[38;5;241m42\u001b[39m, stratify\u001b[38;5;241m=\u001b[39my)\n\u001b[0;32m      9\u001b[0m \u001b[38;5;66;03m# Convert to PyTorch tensors\u001b[39;00m\n\u001b[0;32m     10\u001b[0m x_train \u001b[38;5;241m=\u001b[39m torch\u001b[38;5;241m.\u001b[39mfrom_numpy(x_train)\u001b[38;5;241m.\u001b[39mfloat()\n",
      "\u001b[1;31mNameError\u001b[0m: name 'x' is not defined"
     ]
    }
   ],
   "source": [
    "# Define the device\n",
    "device = torch.device(\"cuda\" if torch.cuda.is_available() else \"cpu\")\n",
    "print(\"Using device:\", device)\n",
    "config = get_config()\n",
    "\n",
    "# Preprocessing\n",
    "audio_files = get_audio_files_and_labels(dataset_dir)\n",
    "x, y = load_and_preprocess_dataset(audio_files)\n",
    "\n",
    "# Train/Test split\n",
    "x_train, x_val, y_train, y_val = train_test_split(x, y, test_size=0.2, random_state=42, stratify=y)\n",
    "\n",
    "# Convert to PyTorch tensors\n",
    "x_train = torch.from_numpy(x_train).float()\n",
    "x_val = torch.from_numpy(x_val).float()\n",
    "y_train = torch.from_numpy(np.array(y_train)).long()\n",
    "y_val = torch.from_numpy(np.array(y_val)).long()\n",
    "\n",
    "# Move the tensors to device specified\n",
    "x_train = x_train.to(device)\n",
    "y_train = y_train.to(device)\n",
    "x_val = x_val.to(device)\n",
    "y_val = y_val.to(device)\n",
    "\n",
    "# Create Dataset and DataLoader\n",
    "train_dataset = TensorDataset(x_train, y_train)\n",
    "val_dataset = TensorDataset(x_val, y_val)\n",
    "train_loader = DataLoader(train_dataset, config['batch_size'], shuffle=True)\n",
    "val_loader = DataLoader(val_dataset, config['batch_size'])\n",
    "\n",
    "input_shape = x_train.shape[-1]\n",
    "\n",
    "model = get_model(config, input_shape).to(device)\n",
    "\n",
    "# Load the pretrained weights\n",
    "model_filename = latest_weights_file_path(config)\n",
    "state = torch.load(model_filename)\n",
    "model.load_state_dict(state['model_state_dict'])\n",
    "\n",
    "class_weights = class_weight.compute_class_weight(\n",
    "    'balanced',\n",
    "    classes=np.unique(y_train),\n",
    "    y=y_train\n",
    ")\n",
    "\n",
    "class_weights_tensor = torch.tensor(class_weights, dtype=torch.float32).to(device)\n",
    "\n",
    "loss_fn = nn.CrossEntropyLoss(label_smoothing=0.1, weight=class_weights_tensor).to(device)\n",
    "\n",
    "validate_model(model, val_loader, loss_fn, device, None, 0)"
   ]
  }
 ],
 "metadata": {
  "kernelspec": {
   "display_name": "Python 3",
   "language": "python",
   "name": "python3"
  },
  "language_info": {
   "codemirror_mode": {
    "name": "ipython",
    "version": 3
   },
   "file_extension": ".py",
   "mimetype": "text/x-python",
   "name": "python",
   "nbconvert_exporter": "python",
   "pygments_lexer": "ipython3",
   "version": "3.12.0"
  }
 },
 "nbformat": 4,
 "nbformat_minor": 4
}
