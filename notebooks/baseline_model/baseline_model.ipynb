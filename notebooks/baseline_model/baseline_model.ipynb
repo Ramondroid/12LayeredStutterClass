{
 "cells": [
  {
   "cell_type": "markdown",
   "metadata": {},
   "source": [
    "<h1>Proposed Model</h1>"
   ]
  },
  {
   "cell_type": "markdown",
   "metadata": {},
   "source": [
    "<h2>Variables</h2>"
   ]
  },
  {
   "cell_type": "code",
   "execution_count": 25,
   "metadata": {},
   "outputs": [],
   "source": [
    "# Directory containing the dataset\n",
    "dataset_dir = './12K-Sorted'\n",
    "\n",
    "# Label map\n",
    "label_map = {\n",
    "    'Block': 0,\n",
    "    'Interjection': 1,\n",
    "    'NoStutter': 2,\n",
    "    'Prolongation': 3,\n",
    "    'SoundRepetition': 4,\n",
    "    'WordRepetition': 5\n",
    "}\n",
    "\n",
    "# Reversed Label map\n",
    "reversed_map = {v: k for k, v in label_map.items()}\n",
    "\n",
    "# Preprocessing\n",
    "duration = 3.0  # seconds\n",
    "sampling_rate = 16000  # Hz\n",
    "n_mels = 128\n",
    "n_mfcc = 13"
   ]
  },
  {
   "cell_type": "markdown",
   "metadata": {},
   "source": [
    "<h2>Retrieving audio files and their labels</h2>"
   ]
  },
  {
   "cell_type": "code",
   "execution_count": 26,
   "metadata": {},
   "outputs": [],
   "source": [
    "import os\n",
    "\n",
    "def get_audio_files_and_labels(dataset_dir):\n",
    "    audio_files = []\n",
    "    for label_dir in os.listdir(dataset_dir):\n",
    "        if label_dir in label_map:\n",
    "            label = label_map[label_dir]\n",
    "            class_dir = os.path.join(dataset_dir, label_dir)\n",
    "            for audio_file in os.listdir(class_dir):\n",
    "                audio_path = os.path.join(class_dir, audio_file)\n",
    "                audio_files.append((audio_path, label))\n",
    "    return audio_files"
   ]
  },
  {
   "cell_type": "markdown",
   "metadata": {},
   "source": [
    "<h2>Preprocessing</h2>"
   ]
  },
  {
   "cell_type": "code",
   "execution_count": 27,
   "metadata": {},
   "outputs": [],
   "source": [
    "import librosa\n",
    "import numpy as np\n",
    "\n",
    "def preprocess_audio(audio_path, target_length=94):\n",
    "    try:\n",
    "        audio, sr = librosa.load(audio_path, sr=sampling_rate)\n",
    "\n",
    "        if len(audio) != int(duration * sampling_rate):\n",
    "            print(f\"Audio file {audio_path} is not exactly {duration} seconds.\")\n",
    "            return None\n",
    "\n",
    "        log_mel_spectrogram = librosa.feature.melspectrogram(y=audio, sr=sr, n_mels=n_mels)\n",
    "        log_mel_spectrogram = librosa.power_to_db(log_mel_spectrogram, ref=np.max)\n",
    "\n",
    "        if log_mel_spectrogram.shape[1] < target_length:\n",
    "            # Pad with zeros if too short\n",
    "            pad_width = target_length - log_mel_spectrogram.shape[1]\n",
    "            log_mel_spectrogram = np.pad(log_mel_spectrogram, ((0, 0), (0, pad_width)), mode='constant')\n",
    "        elif log_mel_spectrogram.shape[1] > target_length:\n",
    "            # Trim if too long\n",
    "            log_mel_spectrogram = log_mel_spectrogram[:, :target_length]\n",
    "\n",
    "        return log_mel_spectrogram.T # (time_steps, features)\n",
    "    except Exception as e:\n",
    "        print(f\"Error processing file {audio_path}: {e}\")\n",
    "        return None, None"
   ]
  },
  {
   "cell_type": "markdown",
   "metadata": {},
   "source": [
    "<h3>Preprocessing (single file)</h3>"
   ]
  },
  {
   "cell_type": "code",
   "execution_count": 28,
   "metadata": {},
   "outputs": [],
   "source": [
    "def preprocess_concat_audio(audio_path, target_length=94, sr=sampling_rate):\n",
    "    try:\n",
    "        audio, _ = librosa.load(audio_path, sr=sr)\n",
    "\n",
    "        if len(audio) != int(duration * sampling_rate):\n",
    "            print(f\"Audio file {audio_path} is not exactly {duration} seconds.\")\n",
    "            return None\n",
    "        \n",
    "        log_mel_spectrogram = librosa.feature.melspectrogram(y=audio, sr=sr, n_mels=n_mels)\n",
    "        log_mel_spectrogram = librosa.power_to_db(log_mel_spectrogram, ref=np.max)\n",
    "\n",
    "        if log_mel_spectrogram.shape[1] < target_length:\n",
    "            # Pad with zeros if too short\n",
    "            pad_width = target_length - log_mel_spectrogram.shape[1]\n",
    "            log_mel_spectrogram = np.pad(log_mel_spectrogram, ((0, 0), (0, pad_width)), mode='constant')\n",
    "        elif log_mel_spectrogram.shape[1] > target_length:\n",
    "            # Trim if too long\n",
    "            log_mel_spectrogram = log_mel_spectrogram[:, :target_length]\n",
    "\n",
    "        return log_mel_spectrogram.T # (time_steps, features)\n",
    "    except Exception as e:\n",
    "        print(f\"Error processing file {audio_path}: {e}\")\n",
    "        return None"
   ]
  },
  {
   "cell_type": "markdown",
   "metadata": {},
   "source": [
    "<h2>Load and preprocess dataset</h2>"
   ]
  },
  {
   "cell_type": "code",
   "execution_count": 29,
   "metadata": {},
   "outputs": [],
   "source": [
    "def load_and_preprocess_dataset(audio_files):\n",
    "    x = []\n",
    "    y = []\n",
    "\n",
    "    for audio_path, label in audio_files:\n",
    "        log_mel = preprocess_audio(audio_path)\n",
    "        if log_mel is not None:\n",
    "            x.append(log_mel)\n",
    "            y.append(label)\n",
    "\n",
    "    x = np.array(x)\n",
    "    y = np.array(y)\n",
    "\n",
    "    return x, y"
   ]
  },
  {
   "cell_type": "markdown",
   "metadata": {},
   "source": [
    "<h2>Probability Distribution Plotting</h2>"
   ]
  },
  {
   "cell_type": "code",
   "execution_count": 30,
   "metadata": {},
   "outputs": [],
   "source": [
    "import matplotlib.pyplot as plt\n",
    "\n",
    "def plot_probability_distribution(probability_distribution):\n",
    "    class_labels = [reversed_map[i] for i in range(len(probability_distribution))]\n",
    "\n",
    "    plt.figure(figsize=(10, 6))\n",
    "    plt.bar(class_labels, probability_distribution, color='skyblue')\n",
    "    plt.xlabel('Stutter Types')\n",
    "    plt.ylabel('Probability')\n",
    "    plt.title('Probability Distribution for Each Stutter Type')\n",
    "    plt.show()"
   ]
  },
  {
   "cell_type": "markdown",
   "metadata": {},
   "source": [
    "<h2>Layer Normalization</h2>"
   ]
  },
  {
   "cell_type": "code",
   "execution_count": 31,
   "metadata": {},
   "outputs": [],
   "source": [
    "import torch\n",
    "import torch.nn as nn\n",
    "import math\n",
    "\n",
    "class LayerNormalization(nn.Module):\n",
    "    def __init__(self, features: int, eps: float = 1e-6) -> None:\n",
    "        super().__init__()\n",
    "        self.eps = eps\n",
    "        self.alpha = nn.Parameter(torch.ones(features))\n",
    "        self.bias = nn.Parameter(torch.zeros(features))\n",
    "\n",
    "    def forward(self, x):\n",
    "        alpha = self.alpha.to(x.device)\n",
    "        bias = self.bias.to(x.device)\n",
    "\n",
    "        mean = x.mean(dim=-1, keepdim=True)\n",
    "        std = x.std(dim=-1, keepdim=True)\n",
    "        return alpha * (x - mean) / (std + self.eps) + bias"
   ]
  },
  {
   "cell_type": "markdown",
   "metadata": {},
   "source": [
    "<h2>2 x Conv1D Layer</h2>"
   ]
  },
  {
   "cell_type": "code",
   "execution_count": 32,
   "metadata": {},
   "outputs": [],
   "source": [
    "import torch\n",
    "import torch.nn as nn\n",
    "import math\n",
    "\n",
    "class Conv1DBlock(nn.Module):\n",
    "    def __init__(self, feature_size: int, filter_size: int, output_size: int, kernel_size_1: int, kernel_size_2) -> None:\n",
    "        super().__init__()\n",
    "        # First Conv1D Layer\n",
    "        self.conv1 = nn.Conv1d(in_channels=feature_size, out_channels=filter_size, kernel_size=kernel_size_1, padding='same')\n",
    "        self.norm = nn.LayerNorm(filter_size)\n",
    "        self.activation = nn.GELU()\n",
    "\n",
    "        # Second Conv1D Layer\n",
    "        self.conv2 = nn.Conv1d(in_channels=filter_size, out_channels=output_size, kernel_size=kernel_size_2, padding='same')\n",
    "        self.norm2 = nn.LayerNorm(output_size)\n",
    "        \n",
    "    def forward(self, x):\n",
    "        # Conv1D -> LayerNorm -> GELU -> Dropout\n",
    "        x = self.conv1(x.transpose(1, 2))  # Conv1D expects (batch, channels, timesteps), so transpose\n",
    "        x = self.norm(x.transpose(1, 2))  # LayerNorm expects (batch, timesteps, features), so transpose back\n",
    "        x = self.activation(x)\n",
    "\n",
    "        # Repeat for second Conv1D layer\n",
    "        x = self.conv2(x.transpose(1, 2))\n",
    "        x = self.norm2(x.transpose(1, 2))\n",
    "        return self.activation(x)"
   ]
  },
  {
   "cell_type": "markdown",
   "metadata": {},
   "source": [
    "<h2>Sinusoidal Positional Encoding</h2>"
   ]
  },
  {
   "cell_type": "code",
   "execution_count": 33,
   "metadata": {},
   "outputs": [],
   "source": [
    "class PositionalEncoding(nn.Module):\n",
    "    def __init__(self, timesteps: int, d_model: int, dropout: float) -> None:\n",
    "        super().__init__()\n",
    "        self.timesteps = timesteps\n",
    "        self.d_model = d_model\n",
    "        self.dropout = nn.Dropout(dropout)\n",
    "\n",
    "        # Create a matrix of shape (timesteps, d_model)\n",
    "        pe = torch.zeros(timesteps, d_model)\n",
    "        # Create a vector of shape (timesteps, 1)\n",
    "        position = torch.arange(0, timesteps, dtype=torch.float).unsqueeze(1)\n",
    "        div_term = torch.exp(torch.arange(0, d_model, 2).float() * (-math.log(1000.0) / d_model))\n",
    "        # Apply the sin to even positions\n",
    "        pe[:, 0::2] = torch.sin(position * div_term)\n",
    "        pe[:, 1::2] = torch.cos(position * div_term)\n",
    "\n",
    "        pe = pe.unsqueeze(0) # (1, timesteps, d_model)\n",
    "\n",
    "        # Register as buffer so that the tensor will be saved to the file but not as a learned params\n",
    "        self.register_buffer('pe', pe)\n",
    "\n",
    "    def forward(self, x):\n",
    "        # self.pe = self.pe.to(x.device)  \n",
    "        x = x + (self.pe[:, :x.shape[1], :]).requires_grad_(False)\n",
    "        return self.dropout(x)"
   ]
  },
  {
   "cell_type": "markdown",
   "metadata": {},
   "source": [
    "<h2>Feed Forward Neural Network</h2>"
   ]
  },
  {
   "cell_type": "code",
   "execution_count": 34,
   "metadata": {},
   "outputs": [],
   "source": [
    "class FeedForwardBlock(nn.Module):\n",
    "    def __init__(self, d_model: int, d_ff: int, dropout: float) -> None:\n",
    "        super().__init__()\n",
    "        self.linear_1 = nn.Linear(d_model, d_ff) # W1 and B1\n",
    "        self.dropout = nn.Dropout(dropout)\n",
    "        self.linear_2 = nn.Linear(d_ff, d_model) # W2 and B2\n",
    "\n",
    "    def forward(self, x):\n",
    "        # (batch, timesteps, d_model) --> (batch, timesteps, d_ff) --> (batch, timesteps, d_model)\n",
    "        return self.linear_2(self.dropout(torch.relu(self.linear_1(x))))"
   ]
  },
  {
   "cell_type": "markdown",
   "metadata": {},
   "source": [
    "<h2>Multi-head Self Attention Layer</h2>"
   ]
  },
  {
   "cell_type": "code",
   "execution_count": 35,
   "metadata": {},
   "outputs": [],
   "source": [
    "class MultiHeadAttentionBlock(nn.Module):\n",
    "    def __init__(self, d_model: int, h: int, dropout: float) -> None:\n",
    "        super().__init__()\n",
    "        self.d_model = d_model\n",
    "        self.h = h\n",
    "        assert d_model % h == 0, f\"d_model {d_model} is not divisible by h\"\n",
    "        \n",
    "        self.d_k = d_model // h\n",
    "        self.w_q = nn.Linear(d_model, d_model) #Wq\n",
    "        self.w_k = nn.Linear(d_model, d_model) #Wk\n",
    "        self.w_v = nn.Linear(d_model, d_model) #Wv\n",
    "\n",
    "        self.w_o = nn.Linear(d_model, d_model) #Wo\n",
    "        self.dropout = nn.Dropout(dropout)\n",
    "\n",
    "    @staticmethod\n",
    "    def attention(query, key, value, mask, dropout: nn.Dropout):\n",
    "        d_k = query.shape[-1]\n",
    "\n",
    "        # (batch, h, timesteps, d_k) --> (batch, h, timesteps, timesteps)\n",
    "        attention_scores = (query @ key.transpose(-2, -1)) / math.sqrt(d_k)\n",
    "        if mask is not None:\n",
    "            attention_scores.masked_fill_(mask == 0, -1e9)\n",
    "        attention_scores = attention_scores.softmax(dim = -1) # (batch, h, timesteps, timesteps)\n",
    "        if dropout is not None:\n",
    "            attention_scores = dropout(attention_scores)\n",
    "\n",
    "        return (attention_scores @ value), attention_scores\n",
    "\n",
    "    def forward(self, q, k, v, mask):\n",
    "        query = self.w_q(q) # (batch, timesteps, d_model) --> (batch, timesteps, d_model)\n",
    "        key = self.w_k(k) # (batch, timesteps, d_model) --> (batch, timesteps, d_model)\n",
    "        value = self.w_v(v) # (batch, timesteps, d_model) --> (batch, timesteps, d_model)\n",
    "\n",
    "        # (batch, timesteps, d_model) --> (batch, timesteps, h, d_k) --> (batch, h, timesteps, d_k)\n",
    "        query = query.view(query.shape[0], query.shape[1], self.h, self.d_k).transpose(1, 2)\n",
    "        key = key.view(key.shape[0], key.shape[1], self.h, self.d_k).transpose(1, 2)\n",
    "        value = value.view(value.shape[0], value.shape[1], self.h, self.d_k).transpose(1, 2)\n",
    "\n",
    "        x, self.attention_scores = MultiHeadAttentionBlock.attention(query, key, value, mask, self.dropout)\n",
    "\n",
    "        # (batch, h, timesteps, d_k) --> (batch, timesteps, h, d_k) --> (batch, timesteps, d_model)\n",
    "        x = x.transpose(1, 2).contiguous().view(x.shape[0], -1, self.h * self.d_k)\n",
    "\n",
    "        # (batch, timesteps, d_model) --> (batch, timesteps, d_model)\n",
    "        return self.w_o(x)"
   ]
  },
  {
   "cell_type": "markdown",
   "metadata": {},
   "source": [
    "<h2>Residual Connection</h2>"
   ]
  },
  {
   "cell_type": "code",
   "execution_count": 36,
   "metadata": {},
   "outputs": [],
   "source": [
    "class ResidualConnection(nn.Module):\n",
    "    def __init__(self, features: int, dropout: float) -> None:\n",
    "        super().__init__()\n",
    "        self.dropout = nn.Dropout(dropout)\n",
    "        self.norm = LayerNormalization(features)\n",
    "\n",
    "    def forward(self, x, sublayer):\n",
    "        return x + self.dropout(sublayer(self.norm(x)))"
   ]
  },
  {
   "cell_type": "markdown",
   "metadata": {},
   "source": [
    "<h2>Encoder</h2>"
   ]
  },
  {
   "cell_type": "code",
   "execution_count": 37,
   "metadata": {},
   "outputs": [],
   "source": [
    "class EncoderBlock(nn.Module):\n",
    "    def __init__(self, features: int, self_attention_block: MultiHeadAttentionBlock, feed_forward_block: FeedForwardBlock, dropout: float) -> None:\n",
    "        super().__init__()\n",
    "        self.self_attention_block = self_attention_block\n",
    "        self.feed_foward_block = feed_forward_block\n",
    "        self.residual_connections = nn.ModuleList([ResidualConnection(features, dropout) for _ in range(2)])\n",
    "    \n",
    "    def forward(self, x, src_mask):\n",
    "        x = self.residual_connections[0](x, lambda x: self.self_attention_block(x, x, x, src_mask))\n",
    "        x = self.residual_connections[1](x, self.feed_foward_block)\n",
    "        return x\n",
    "    \n",
    "class Encoder(nn.Module):\n",
    "    def __init__(self, features: int, layers: nn.ModuleList) -> None:\n",
    "        super().__init__()\n",
    "        self.layers = layers\n",
    "        self.norm = LayerNormalization(features)\n",
    "\n",
    "    def forward(self, x, mask):\n",
    "        for layer in self.layers:\n",
    "            x = layer(x, mask)\n",
    "        return self.norm(x)"
   ]
  },
  {
   "cell_type": "markdown",
   "metadata": {},
   "source": [
    "<h2>Decoder</h2>"
   ]
  },
  {
   "cell_type": "code",
   "execution_count": 38,
   "metadata": {},
   "outputs": [],
   "source": [
    "class DecoderBlock(nn.Module):\n",
    "    def __init__(self, features: int, self_attention_block: MultiHeadAttentionBlock, cross_attention_block: MultiHeadAttentionBlock, feed_forward_block: FeedForwardBlock, dropout: float) -> None:\n",
    "        super().__init__()\n",
    "        self.self_attention_block = self_attention_block\n",
    "        self.cross_attention_block = cross_attention_block\n",
    "        self.feed_forward_block = feed_forward_block\n",
    "        self.residual_connections = nn.ModuleList(ResidualConnection(features, dropout) for _ in range(3))\n",
    "\n",
    "    def forward(self, x, encoder_output, src_mask, tgt_mask):\n",
    "        x = self.residual_connections[0](x, lambda x: self.self_attention_block(x, x, x, tgt_mask))\n",
    "        x = self.residual_connections[1](x, lambda x: self.self_attention_block(x, encoder_output, encoder_output, src_mask))\n",
    "        x = self.residual_connections[2](x, self.feed_forward_block)\n",
    "        return x\n",
    "    \n",
    "class Decoder(nn.Module):\n",
    "    def __init__(self, features: int, layers: nn.ModuleList) -> None:\n",
    "        super().__init__()\n",
    "        self.layers = layers\n",
    "        self.norm = LayerNormalization(features)\n",
    "\n",
    "    def forward(self, x, encoder_output, src_mask, tgt_mask):\n",
    "        for layer in self.layers:\n",
    "            x = layer(x, encoder_output, src_mask, tgt_mask)\n",
    "        return self.norm(x)"
   ]
  },
  {
   "cell_type": "markdown",
   "metadata": {},
   "source": [
    "<h2>Classification Layer</h2>"
   ]
  },
  {
   "cell_type": "code",
   "execution_count": 39,
   "metadata": {},
   "outputs": [],
   "source": [
    "class ClassificationHead(nn.Module):\n",
    "    def __init__(self, d_model: int, num_classes: int) -> None:\n",
    "        super().__init__()\n",
    "        self.fc = nn.Linear(d_model, num_classes)\n",
    "\n",
    "    def forward(self, x):\n",
    "        # Take the mean of the encoder outputs over the sequence dimension\n",
    "        x = x.mean(dim=1)\n",
    "        return self.fc(x)"
   ]
  },
  {
   "cell_type": "markdown",
   "metadata": {},
   "source": [
    "<h2>Baseline Model</h2>"
   ]
  },
  {
   "cell_type": "code",
   "execution_count": 40,
   "metadata": {},
   "outputs": [],
   "source": [
    "class TransformerBlock(nn.Module):\n",
    "    def __init__(self, conv: Conv1DBlock,pos_enc: PositionalEncoding, encoder: Encoder, classifier: ClassificationHead) -> None:\n",
    "        super().__init__()\n",
    "        self.conv = conv\n",
    "        self.pos_enc = pos_enc\n",
    "        self.encoder = encoder\n",
    "        self.classifier = classifier\n",
    "\n",
    "    def forward(self, x, mask=None):\n",
    "        x = self.conv(x)\n",
    "\n",
    "        x = self.pos_enc(x)\n",
    "\n",
    "        x = self.encoder(x, mask=None)\n",
    "\n",
    "        return self.classifier(x)"
   ]
  },
  {
   "cell_type": "code",
   "execution_count": 41,
   "metadata": {},
   "outputs": [],
   "source": [
    "def build_transformer_model(input_dim: int, timesteps: int, filter_size: int, output_size: int, num_layers: int, num_heads: int, num_classes: int, kernel_size_1: int, kernel_size_2: int, dropout: float):\n",
    "    # Conv1D Block\n",
    "    conv = Conv1DBlock(input_dim, filter_size, output_size, kernel_size_1, kernel_size_2)\n",
    "\n",
    "    # Positional Encoding\n",
    "    pos_enc = PositionalEncoding(timesteps, output_size, dropout)\n",
    "\n",
    "    # Encoder\n",
    "    encoder_layers = []\n",
    "    for _ in range(num_layers):\n",
    "        encoder_self_attention_block = MultiHeadAttentionBlock(output_size, num_heads, dropout)\n",
    "        feed_forward_block = FeedForwardBlock(output_size, output_size * 4, dropout)\n",
    "        encoder_layer = EncoderBlock(output_size, encoder_self_attention_block, feed_forward_block, dropout)\n",
    "        encoder_layers.append(encoder_layer)\n",
    "    encoder = Encoder(output_size, nn.ModuleList(encoder_layers))\n",
    "\n",
    "    # Freezed first 3 layers\n",
    "    freezed_layers = [0, 1, 2]\n",
    "    for i in freezed_layers:\n",
    "        for param in encoder.layers[i].parameters():\n",
    "            param.requires_grad = False\n",
    "\n",
    "    # Classifier\n",
    "    classifier = ClassificationHead(output_size, num_classes)\n",
    "    \n",
    "    # Transformer model\n",
    "    model = TransformerBlock(conv, pos_enc, encoder, classifier)\n",
    "    \n",
    "    # Initialize the parameters\n",
    "    for p in model.parameters():\n",
    "        if p.dim() > 1:\n",
    "            nn.init.xavier_uniform_(p)\n",
    "    \n",
    "    return model"
   ]
  },
  {
   "cell_type": "code",
   "execution_count": 42,
   "metadata": {},
   "outputs": [],
   "source": [
    "def get_transformer_model(config, input_dim, timesteps):\n",
    "    model = build_transformer_model(\n",
    "        input_dim=input_dim,\n",
    "        timesteps=timesteps,\n",
    "        filter_size=config['filter_size'],\n",
    "        output_size=config['output_size'],\n",
    "        num_layers=config['num_layers'],\n",
    "        num_heads=config['num_heads'],\n",
    "        num_classes=config['num_classes'],\n",
    "        kernel_size_1=config['kernel_size_1'],\n",
    "        kernel_size_2=config['kernel_size_2'],\n",
    "        dropout=config['dropout']\n",
    "    )\n",
    "    return model"
   ]
  },
  {
   "cell_type": "markdown",
   "metadata": {},
   "source": [
    "<h2>Model Inference Function</h2>"
   ]
  },
  {
   "cell_type": "code",
   "execution_count": 43,
   "metadata": {},
   "outputs": [],
   "source": [
    "from tqdm import tqdm\n",
    "\n",
    "def validate_model(model, val_loader, loss_fn, device, writer, global_step):\n",
    "    model.eval()  # Set the model to evaluation mode\n",
    "    val_loss = 0.0\n",
    "    correct_predictions = 0\n",
    "    total_predictions = 0\n",
    "\n",
    "    with torch.no_grad():  # Disable gradient computation for validation\n",
    "        batch_iterator = tqdm(val_loader, desc=\"Validating\")\n",
    "        for batch in batch_iterator:\n",
    "            inputs = batch[0].to(device)\n",
    "            labels = batch[1].to(device)\n",
    "\n",
    "            outputs = model(inputs)\n",
    "\n",
    "            loss = loss_fn(outputs, labels)\n",
    "            val_loss += loss.item() * inputs.size(0)\n",
    "\n",
    "            _, predicted_labels = torch.max(outputs, 1) \n",
    "            correct_predictions += (predicted_labels == labels).sum().item()\n",
    "            total_predictions += labels.size(0)\n",
    "\n",
    "            batch_iterator.set_postfix({\n",
    "                \"val_loss\": f\"{loss.item():6.3f}\", \n",
    "                \"accuracy\": f\"{(correct_predictions / total_predictions):6.3f}\"\n",
    "            })\n",
    "\n",
    "    # Calculate the average validation loss and accuracy for this epoch\n",
    "    avg_val_loss = val_loss / total_predictions\n",
    "    accuracy = correct_predictions / total_predictions\n",
    "\n",
    "    print(f\"Validation Loss: {avg_val_loss:.4f}, Accuracy: {accuracy:.4f}\")\n",
    "\n",
    "    # Log validation loss and accuracy to TensorBoard\n",
    "    writer.add_scalar('val loss', avg_val_loss, global_step)\n",
    "    writer.add_scalar('val accuracy', accuracy, global_step)\n",
    "    writer.flush()\n",
    "\n",
    "    return avg_val_loss, accuracy"
   ]
  },
  {
   "cell_type": "markdown",
   "metadata": {},
   "source": [
    "<h2>Model Prediction Function</h2>"
   ]
  },
  {
   "cell_type": "code",
   "execution_count": 44,
   "metadata": {},
   "outputs": [],
   "source": [
    "import torch.nn.functional as F\n",
    "\n",
    "def predict(model, input):\n",
    "    model.eval()\n",
    "\n",
    "    with torch.no_grad():\n",
    "        output = model(input)\n",
    "\n",
    "    probabilities = F.softmax(output, dim=1)\n",
    "\n",
    "    predicted_class = torch.argmax(probabilities, dim=1).item()\n",
    "    probability_distribution = probabilities.squeeze().cpu().numpy()\n",
    "\n",
    "    return predicted_class, probability_distribution"
   ]
  },
  {
   "cell_type": "markdown",
   "metadata": {},
   "source": [
    "<h1>Main Training-Validation Loop Function</h1>"
   ]
  },
  {
   "cell_type": "code",
   "execution_count": 45,
   "metadata": {},
   "outputs": [],
   "source": [
    "from pathlib import Path\n",
    "from sklearn.model_selection import train_test_split\n",
    "from torch.utils.data import DataLoader, TensorDataset\n",
    "import torch.optim as optim\n",
    "from config import get_config, get_weights_file_path, latest_weights_file_path\n",
    "from torch.utils.tensorboard import SummaryWriter\n",
    "from sklearn.utils import class_weight\n",
    "\n",
    "def train_model(config):\n",
    "    device = \"cuda\" if torch.cuda.is_available() else \"cpu\"\n",
    "    print(f\"Using device {device}\")\n",
    "    if (device == \"cuda\"):\n",
    "        print(f\"Device name: {torch.cuda.get_device_name(device.index)}\")\n",
    "        print(f\"Device memory: {torch.cuda.get_device_properties(device.index).total_memory / 1024 ** 3} GB\")\n",
    "    device = torch.device(device)\n",
    "\n",
    "    Path(config['model_folder']).mkdir(parents=True, exist_ok=True)\n",
    "\n",
    "    audio_files = get_audio_files_and_labels(dataset_dir)\n",
    "    x, y = load_and_preprocess_dataset(audio_files)\n",
    "\n",
    "    # # Checking the dataset size\n",
    "    # assert len(x) == len(y) == 12730, \"Dataset size mismatch!\"\n",
    "\n",
    "    # Train/Test split\n",
    "    x_train, x_val, y_train, y_val = train_test_split(x, y, test_size=0.2, random_state=42, stratify=y)\n",
    "\n",
    "    # Convert to PyTorch tensors\n",
    "    x_train = torch.from_numpy(x_train).float()\n",
    "    x_val = torch.from_numpy(x_val).float()\n",
    "    y_train = torch.from_numpy(np.array(y_train)).long()\n",
    "    y_val = torch.from_numpy(np.array(y_val)).long()\n",
    "\n",
    "    # Move the tensors to device specified\n",
    "    x_train = x_train.to(device)\n",
    "    y_train = y_train.to(device)\n",
    "    x_val = x_val.to(device)\n",
    "    y_val = y_val.to(device)\n",
    "\n",
    "    # #? LOL WHAT\n",
    "    # x_train = torch.from_numpy(x).float()\n",
    "    # x_val = x_train\n",
    "    # y_train = torch.from_numpy(np.array(y)).long()\n",
    "    # y_val = y_train\n",
    "    \n",
    "    # Create Dataset and DataLoader\n",
    "    train_dataset = TensorDataset(x_train, y_train)\n",
    "    val_dataset = TensorDataset(x_val, y_val)\n",
    "    train_loader = DataLoader(train_dataset, config['batch_size'], shuffle=True)\n",
    "    val_loader = DataLoader(val_dataset, batch_size=1, shuffle=False)\n",
    "\n",
    "    input_shape = x_train.shape[-1]\n",
    "    timesteps = x_train.shape[1]\n",
    "\n",
    "    model = get_transformer_model(config, input_shape, timesteps).to(device)\n",
    "    # Tensorboard\n",
    "    writer = SummaryWriter(config['experiment_name'])\n",
    "\n",
    "    optimizer = optim.Adam(filter(lambda p: p.requires_grad, model.parameters()), lr=config['lr'])\n",
    "\n",
    "    initial_epoch = 0\n",
    "    global_step = 0\n",
    "    preload = config['preload']\n",
    "    model_filename = latest_weights_file_path(config) if preload == 'latest' else get_weights_file_path(config, preload) if preload else None\n",
    "    if model_filename:\n",
    "        print(f'Preloading model {model_filename}')\n",
    "        state = torch.load(model_filename)\n",
    "        model.load_state_dict(state['model_state_dict'])\n",
    "        initial_epoch = state['epoch'] + 1\n",
    "        optimizer.load_state_dict(state['optimizer_state_dict'])\n",
    "        global_step = state['global_step']\n",
    "    else:\n",
    "        print('No model to preload, starting from scratch')\n",
    "\n",
    "    y_train_cpu = y_train.to(\"cpu\")\n",
    "\n",
    "    y_train_np = y_train_cpu.numpy()\n",
    "\n",
    "    class_weights = class_weight.compute_class_weight(\n",
    "        'balanced',\n",
    "        classes=np.unique(y_train_np),\n",
    "        y=y_train_np\n",
    "    )\n",
    "\n",
    "    class_weights_tensor = torch.tensor(class_weights, dtype=torch.float32).to(device)\n",
    "\n",
    "    loss_fn = nn.CrossEntropyLoss(label_smoothing=0.1, weight=class_weights_tensor).to(device)\n",
    "\n",
    "    for epoch in range(initial_epoch, config['epochs']):\n",
    "        torch.cuda.empty_cache()\n",
    "        model.train()\n",
    "        batch_iterator = tqdm(train_loader, desc=f\"Processing Epoch {epoch:02d}\")\n",
    "        for batch in batch_iterator:\n",
    "\n",
    "            inputs = batch[0].to(device) \n",
    "            labels = batch[1].to(device) \n",
    "\n",
    "            outputs = model(inputs)\n",
    "\n",
    "            # Compute the loss using a simple cross entropy\n",
    "            loss = loss_fn(outputs, labels)\n",
    "            batch_iterator.set_postfix({\"loss\": f\"{loss.item():6.3f}\"})\n",
    "\n",
    "            # Log the loss\n",
    "            writer.add_scalar('train loss', loss.item(), global_step)\n",
    "            writer.flush()\n",
    "\n",
    "            # Backpropagate the loss\n",
    "            loss.backward()\n",
    "\n",
    "            # Update the weights\n",
    "            optimizer.step()\n",
    "            optimizer.zero_grad(set_to_none=True)\n",
    "\n",
    "            global_step += 1\n",
    "\n",
    "        # Run validation at the end of every epoch\n",
    "        validate_model(model, val_loader, loss_fn, device, writer, global_step)\n",
    "\n",
    "        # Save the model every 10 epochs\n",
    "        if (epoch + 1) % 10 == 0:\n",
    "            model_filename = get_weights_file_path(config, f\"{epoch:02d}\")\n",
    "            torch.save({\n",
    "                'epoch': epoch,\n",
    "                'model_state_dict': model.state_dict(),\n",
    "                'optimizer_state_dict': optimizer.state_dict(),\n",
    "                'global_step': global_step\n",
    "            }, model_filename)"
   ]
  },
  {
   "cell_type": "markdown",
   "metadata": {},
   "source": [
    "<h2>Model Training</h2>"
   ]
  },
  {
   "cell_type": "code",
   "execution_count": null,
   "metadata": {},
   "outputs": [],
   "source": [
    "import warnings\n",
    "\n",
    "warnings.filterwarnings(\"ignore\")\n",
    "config = get_config()\n",
    "train_model(config)"
   ]
  },
  {
   "cell_type": "markdown",
   "metadata": {},
   "source": [
    "<h2>Model Prediction</h2>"
   ]
  },
  {
   "cell_type": "code",
   "execution_count": 55,
   "metadata": {},
   "outputs": [
    {
     "name": "stdout",
     "output_type": "stream",
     "text": [
      "Preloading model models/baseline_model/convtmodel_169.pt\n",
      "Audio File: ./12K-Sorted\\NoStutter\\WomenWhoStutter_100_25.wav\n",
      "Actual Label: NoStutter\n",
      "Predicted Class: NoStutter\n",
      "Probability Distribution: [0.09101424 0.00587998 0.45391983 0.18611157 0.22846724 0.03460718]\n",
      "2\n"
     ]
    },
    {
     "data": {
      "image/png": "[encoded data removed]",
      "text/plain": [
       "<Figure size 1000x600 with 1 Axes>"
      ]
     },
     "metadata": {},
     "output_type": "display_data"
    }
   ],
   "source": [
    "from config import get_config\n",
    "config = get_config()\n",
    "\n",
    "audio_files = get_audio_files_and_labels(dataset_dir)\n",
    "\n",
    "audio, label = audio_files[7777]\n",
    "\n",
    "input = preprocess_concat_audio(audio)\n",
    "\n",
    "input = torch.from_numpy(input).float()\n",
    "input = input.unsqueeze(0)\n",
    "\n",
    "input_shape = input.shape[-1]\n",
    "timesteps = input.shape[1]\n",
    "\n",
    "model = get_transformer_model(config, input_shape, timesteps)\n",
    "\n",
    "saved_model = 'models/baseline_model/convtmodel_169.pt'\n",
    "\n",
    "print(f'Preloading model {saved_model}')\n",
    "print(f\"Audio File: {audio}\")\n",
    "state = torch.load(saved_model)\n",
    "model.load_state_dict(state['model_state_dict'])\n",
    "\n",
    "predicted_class, probabilities = predict(model, input)\n",
    "\n",
    "print(f\"Actual Label: {reversed_map.get(label)}\")\n",
    "print(f\"Predicted Class: {reversed_map.get(predicted_class)}\")\n",
    "print(f\"Probability Distribution: {probabilities}\")\n",
    "\n",
    "print(predicted_class)\n",
    "\n",
    "plot_probability_distribution(probabilities)"
   ]
  }
 ],
 "metadata": {
  "kernelspec": {
   "display_name": "Python 3",
   "language": "python",
   "name": "python3"
  },
  "language_info": {
   "codemirror_mode": {
    "name": "ipython",
    "version": 3
   },
   "file_extension": ".py",
   "mimetype": "text/x-python",
   "name": "python",
   "nbconvert_exporter": "python",
   "pygments_lexer": "ipython3",
   "version": "3.12.0"
  }
 },
 "nbformat": 4,
 "nbformat_minor": 4
}
